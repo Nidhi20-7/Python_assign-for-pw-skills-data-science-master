{
 "cells": [
  {
   "cell_type": "markdown",
   "id": "87d0fb55",
   "metadata": {},
   "source": [
    "Q1. Which keyword is used to create a function? Create a function to return a list of odd numbers in the\n",
    "range of 1 to 25.\n",
    "\n",
    "ANS : def keyword is used to create a function"
   ]
  },
  {
   "cell_type": "code",
   "execution_count": 1,
   "id": "9cad1879",
   "metadata": {},
   "outputs": [],
   "source": [
    "def select_odd(n):\n",
    "    odd_nums=[]\n",
    "    for i in range(n+1):\n",
    "        if i%2 !=0:\n",
    "            odd_nums.append(i)\n",
    "            \n",
    "    return odd_nums"
   ]
  },
  {
   "cell_type": "code",
   "execution_count": 2,
   "id": "18b3d846",
   "metadata": {},
   "outputs": [
    {
     "data": {
      "text/plain": [
       "[1, 3, 5, 7, 9, 11, 13, 15, 17, 19, 21, 23, 25]"
      ]
     },
     "execution_count": 2,
     "metadata": {},
     "output_type": "execute_result"
    }
   ],
   "source": [
    "select_odd(25)"
   ]
  },
  {
   "cell_type": "markdown",
   "id": "694a9ef6",
   "metadata": {},
   "source": [
    "Q2 Why *args and **kwargs is used in some functions? Create a function each for *args and **kwargs to\n",
    "demonstrate their use.\n",
    " Python has *args which allow us to pass the variable number of non keyword arguments to function.\n",
    " **kwargs passes variable number of keyword arguments dictionary to function on which operation of a dictionary can be performed."
   ]
  },
  {
   "cell_type": "code",
   "execution_count": 3,
   "id": "7f6f5569",
   "metadata": {},
   "outputs": [],
   "source": [
    "def use_of_args(*args):\n",
    "    display_nums=args\n",
    "        \n",
    "    return display_nums\n"
   ]
  },
  {
   "cell_type": "code",
   "execution_count": 4,
   "id": "d458390c",
   "metadata": {},
   "outputs": [
    {
     "data": {
      "text/plain": [
       "(1, 2, 3, 4, 5, 'NIDHI')"
      ]
     },
     "execution_count": 4,
     "metadata": {},
     "output_type": "execute_result"
    }
   ],
   "source": [
    "use_of_args(1,2,3,4,5,\"NIDHI\")"
   ]
  },
  {
   "cell_type": "code",
   "execution_count": 5,
   "id": "90f50711",
   "metadata": {},
   "outputs": [],
   "source": [
    "def use_of_kwargs(**kwargs):\n",
    "    display_nums=kwargs.items()\n",
    "        \n",
    "    return display_nums"
   ]
  },
  {
   "cell_type": "code",
   "execution_count": 6,
   "id": "8bed8db5",
   "metadata": {},
   "outputs": [
    {
     "data": {
      "text/plain": [
       "dict_items([('a', 'nidhi'), ('b', 'bhanushali')])"
      ]
     },
     "execution_count": 6,
     "metadata": {},
     "output_type": "execute_result"
    }
   ],
   "source": [
    "use_of_kwargs(a=\"nidhi\",b=\"bhanushali\")"
   ]
  },
  {
   "cell_type": "markdown",
   "id": "652ccce3",
   "metadata": {},
   "source": [
    "Q3. What is an iterator in python? Name the method used to initialise the iterator object and the method\n",
    "used for iteration. Use these methods to print the first five elements of the given list [2, 4, 6, 8, 10, 12, 14, 16,\n",
    "18, 20]."
   ]
  },
  {
   "cell_type": "markdown",
   "id": "e602cd5e",
   "metadata": {},
   "source": [
    "An iterator is an object that implements the iterator protocol, which consists of the methods __iter__() and __next__().\n",
    "\n",
    "When you use a for loop to iterate over an iterable like a list, the iterable object is passed to the built-in iter() function (different from `iter()), which returns an iterator object"
   ]
  },
  {
   "cell_type": "code",
   "execution_count": 7,
   "id": "dd2e2718",
   "metadata": {},
   "outputs": [],
   "source": [
    "list1=[2, 4, 6, 8, 10, 12, 14, 16,18, 20]"
   ]
  },
  {
   "cell_type": "code",
   "execution_count": 18,
   "id": "aca2b291",
   "metadata": {},
   "outputs": [],
   "source": [
    "def iterate(l):\n",
    "    iterate=iter(l)\n",
    "    for i in range(5):\n",
    "       \n",
    "            print(next(iterate))"
   ]
  },
  {
   "cell_type": "code",
   "execution_count": 19,
   "id": "ebf4fa56",
   "metadata": {},
   "outputs": [
    {
     "name": "stdout",
     "output_type": "stream",
     "text": [
      "2\n",
      "4\n",
      "6\n",
      "8\n",
      "10\n"
     ]
    }
   ],
   "source": [
    "iterate(list1)"
   ]
  },
  {
   "cell_type": "markdown",
   "id": "787934a6",
   "metadata": {},
   "source": [
    "Q4 What is a generator function in python? Why yield keyword is used? Give an example of a generator\n",
    "function.\n",
    "\n",
    "Generator functions are a special kind of function that return a lazy iterator called a generator iterator. These are objects that you can loop over like a list. However, unlike lists, lazy iterators do not store their contents in memory.\n",
    "The yield keyword in Python controls the flow of a generator function. This is similar to a return statement used for returning values in Python. However, there is a difference.\n",
    "\n",
    "When you call a function that has a yield statement, as soon as a yield is encountered, the execution of the function halts and returns a generator iterator object instead of simply returning a value. "
   ]
  },
  {
   "cell_type": "code",
   "execution_count": 20,
   "id": "80cf1270",
   "metadata": {},
   "outputs": [],
   "source": [
    "def print_even(test_list):\n",
    "    for i in test_list:\n",
    "        if i % 2 == 0:\n",
    "            yield i\n",
    "            \n",
    "            "
   ]
  },
  {
   "cell_type": "code",
   "execution_count": 21,
   "id": "0399fff1",
   "metadata": {},
   "outputs": [
    {
     "data": {
      "text/plain": [
       "<generator object print_even at 0x0000021A5AADCA50>"
      ]
     },
     "execution_count": 21,
     "metadata": {},
     "output_type": "execute_result"
    }
   ],
   "source": [
    "print_even(list1)"
   ]
  },
  {
   "cell_type": "code",
   "execution_count": 23,
   "id": "50dda2b9",
   "metadata": {},
   "outputs": [
    {
     "name": "stdout",
     "output_type": "stream",
     "text": [
      "2\n",
      "4\n",
      "6\n",
      "8\n",
      "10\n",
      "12\n",
      "14\n",
      "16\n",
      "18\n",
      "20\n"
     ]
    }
   ],
   "source": [
    "for i in print_even(list1):\n",
    "    print(i)"
   ]
  },
  {
   "cell_type": "markdown",
   "id": "498a31e8",
   "metadata": {},
   "source": [
    "Q5. Create a generator function for prime numbers less than 1000. Use the next() method to print the\n",
    "first 20 prime numbers."
   ]
  },
  {
   "cell_type": "code",
   "execution_count": 54,
   "id": "d6f43021",
   "metadata": {},
   "outputs": [],
   "source": [
    "def primes():\n",
    "    yield 2\n",
    "    prime_list = [2]\n",
    "    num = 3\n",
    "    while num < 1000:\n",
    "        for prime in prime_list:\n",
    "            if num % prime == 0:\n",
    "                break\n",
    "        else:\n",
    "            prime_list.append(num)\n",
    "            yield num\n",
    "        num += 2\n"
   ]
  },
  {
   "cell_type": "code",
   "execution_count": 55,
   "id": "95bd3cc1",
   "metadata": {},
   "outputs": [
    {
     "name": "stdout",
     "output_type": "stream",
     "text": [
      "2\n",
      "3\n",
      "5\n",
      "7\n",
      "11\n",
      "13\n",
      "17\n",
      "19\n",
      "23\n",
      "29\n",
      "31\n",
      "37\n",
      "41\n",
      "43\n",
      "47\n",
      "53\n",
      "59\n",
      "61\n",
      "67\n",
      "71\n"
     ]
    }
   ],
   "source": [
    "prime_generator = primes()\n",
    "for i in range(20):\n",
    "    print(next(prime_generator))\n"
   ]
  },
  {
   "cell_type": "code",
   "execution_count": 53,
   "id": "f552a355",
   "metadata": {},
   "outputs": [],
   "source": []
  },
  {
   "cell_type": "code",
   "execution_count": null,
   "id": "d7a6cd13",
   "metadata": {},
   "outputs": [],
   "source": []
  }
 ],
 "metadata": {
  "kernelspec": {
   "display_name": "Python 3 (ipykernel)",
   "language": "python",
   "name": "python3"
  },
  "language_info": {
   "codemirror_mode": {
    "name": "ipython",
    "version": 3
   },
   "file_extension": ".py",
   "mimetype": "text/x-python",
   "name": "python",
   "nbconvert_exporter": "python",
   "pygments_lexer": "ipython3",
   "version": "3.9.12"
  }
 },
 "nbformat": 4,
 "nbformat_minor": 5
}
