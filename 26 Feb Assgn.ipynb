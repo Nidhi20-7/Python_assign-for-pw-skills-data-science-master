{
 "cells": [
  {
   "cell_type": "code",
   "execution_count": 2,
   "id": "06a6c01e-6c47-44f9-8a7a-e83961e7dc0d",
   "metadata": {},
   "outputs": [],
   "source": [
    "import numpy as np\n",
    "list_ = [ '1' , '2' , '3', '4' , '5' ]\n",
    "array_list = np.array(object = list_)"
   ]
  },
  {
   "cell_type": "markdown",
   "id": "6d74538a-66f5-4ec4-b289-c6c5fc0baceb",
   "metadata": {},
   "source": [
    "Q1. Is there any difference in the data type of variables list_ and array_list? If there is then write a code\n",
    "to print the data types of both the variables"
   ]
  },
  {
   "cell_type": "code",
   "execution_count": 3,
   "id": "e7f8467a-6ffa-4425-9daa-d004f71f3093",
   "metadata": {},
   "outputs": [
    {
     "name": "stdout",
     "output_type": "stream",
     "text": [
      "The data type of list_ is: <class 'list'>\n",
      "The data type of array_list is: <class 'numpy.ndarray'>\n"
     ]
    }
   ],
   "source": [
    "import numpy as np\n",
    "\n",
    "list_ = ['1', '2', '3', '4', '5']\n",
    "array_list = np.array(object = list_)\n",
    "\n",
    "# Print the data types of list_ and array_list\n",
    "print(f\"The data type of list_ is: {type(list_)}\")\n",
    "print(f\"The data type of array_list is: {type(array_list)}\")\n"
   ]
  },
  {
   "cell_type": "markdown",
   "id": "e90abe78-02ba-49ec-8b84-eb19c3f46755",
   "metadata": {},
   "source": [
    "Q2. Write a code to print the data type of each and every element of both the variables list_ and\n",
    "arra_list."
   ]
  },
  {
   "cell_type": "code",
   "execution_count": 4,
   "id": "60f63a92-2137-468f-be5f-5d38d1a23780",
   "metadata": {},
   "outputs": [
    {
     "name": "stdout",
     "output_type": "stream",
     "text": [
      "Data types of elements in list_:\n",
      "<class 'str'>\n",
      "<class 'str'>\n",
      "<class 'str'>\n",
      "<class 'str'>\n",
      "<class 'str'>\n",
      "Data types of elements in array_list:\n",
      "<class 'numpy.str_'>\n",
      "<class 'numpy.str_'>\n",
      "<class 'numpy.str_'>\n",
      "<class 'numpy.str_'>\n",
      "<class 'numpy.str_'>\n"
     ]
    }
   ],
   "source": [
    "# Print the data types of each element in list_\n",
    "print(\"Data types of elements in list_:\")\n",
    "for element in list_:\n",
    "    print(type(element))\n",
    "\n",
    "# Print the data types of each element in array_list\n",
    "print(\"Data types of elements in array_list:\")\n",
    "for element in array_list:\n",
    "    print(type(element))\n"
   ]
  },
  {
   "cell_type": "markdown",
   "id": "60b7dd91-23ea-4ae7-b1e1-f71ee575bc42",
   "metadata": {},
   "source": [
    "Q3. Data type of elements after changing array_list to integers"
   ]
  },
  {
   "cell_type": "code",
   "execution_count": 5,
   "id": "af07e050-17e4-42f1-ab92-7b355048c174",
   "metadata": {},
   "outputs": [
    {
     "name": "stdout",
     "output_type": "stream",
     "text": [
      "Data types of elements in list_ after conversion:\n",
      "<class 'str'>\n",
      "<class 'str'>\n",
      "<class 'str'>\n",
      "<class 'str'>\n",
      "<class 'str'>\n",
      "Data types of elements in array_list after conversion:\n",
      "<class 'numpy.int64'>\n",
      "<class 'numpy.int64'>\n",
      "<class 'numpy.int64'>\n",
      "<class 'numpy.int64'>\n",
      "<class 'numpy.int64'>\n"
     ]
    }
   ],
   "source": [
    "array_list = np.array(object = list_, dtype = int)\n",
    "\n",
    "# Print the data types of each element in list_\n",
    "print(\"Data types of elements in list_ after conversion:\")\n",
    "for element in list_:\n",
    "    print(type(element))\n",
    "\n",
    "# Print the data types of each element in array_list after conversion\n",
    "print(\"Data types of elements in array_list after conversion:\")\n",
    "for element in array_list:\n",
    "    print(type(element))\n"
   ]
  },
  {
   "cell_type": "code",
   "execution_count": 6,
   "id": "a465eac7-6c8b-4ef6-9bb2-bb8cefcab219",
   "metadata": {},
   "outputs": [],
   "source": [
    "import numpy as np\n",
    "num_list = [ [ 1 , 2 , 3 ] , [ 4 , 5 , 6 ] ]\n",
    "num_array = np.array(object = num_list)"
   ]
  },
  {
   "cell_type": "markdown",
   "id": "a49826b1-5bb0-48b5-a0d0-6b07f57fc2bb",
   "metadata": {},
   "source": [
    "Q4. Write a code to find the following characteristics of variable, num_array:\n",
    "(i) shape\n",
    "(ii) size"
   ]
  },
  {
   "cell_type": "code",
   "execution_count": 7,
   "id": "9e898381-e904-4079-91bf-67ba0eea8e66",
   "metadata": {},
   "outputs": [
    {
     "name": "stdout",
     "output_type": "stream",
     "text": [
      "The shape of num_array is: (2, 3)\n",
      "The size of num_array is: 6\n"
     ]
    }
   ],
   "source": [
    "num_list = [[1, 2, 3], [4, 5, 6]]\n",
    "num_array = np.array(object = num_list)\n",
    "\n",
    "# Print the shape and size of num_array\n",
    "print(f\"The shape of num_array is: {num_array.shape}\")\n",
    "print(f\"The size of num_array is: {num_array.size}\")\n"
   ]
  },
  {
   "cell_type": "markdown",
   "id": "8c02a271-a014-46aa-8898-509bbd7ad326",
   "metadata": {},
   "source": [
    "Q5. Write a code to create numpy array of 3*3 matrix containing zeros only, using a numpy array\n",
    "creation function."
   ]
  },
  {
   "cell_type": "code",
   "execution_count": 8,
   "id": "de4ff530-e0ae-445c-b1f2-9f39d21942f7",
   "metadata": {},
   "outputs": [
    {
     "name": "stdout",
     "output_type": "stream",
     "text": [
      "3x3 matrix of zeros:\n",
      "[[0. 0. 0.]\n",
      " [0. 0. 0.]\n",
      " [0. 0. 0.]]\n"
     ]
    }
   ],
   "source": [
    "# Create a 3x3 matrix of zeros\n",
    "zero_matrix = np.zeros((3, 3))\n",
    "print(\"3x3 matrix of zeros:\")\n",
    "print(zero_matrix)\n"
   ]
  },
  {
   "cell_type": "markdown",
   "id": "4d370e9b-a889-4e6e-98da-4049241dc4e5",
   "metadata": {},
   "source": [
    "Q6. Create an identity matrix of shape (5,5) using numpy functions?\n",
    "[Hint: An identity matrix is a matrix containing 1 diagonally and other elements will be 0.]"
   ]
  },
  {
   "cell_type": "code",
   "execution_count": 9,
   "id": "9da1edea-8c5a-4844-a125-fdb94bc89378",
   "metadata": {},
   "outputs": [
    {
     "name": "stdout",
     "output_type": "stream",
     "text": [
      "5x5 identity matrix:\n",
      "[[1. 0. 0. 0. 0.]\n",
      " [0. 1. 0. 0. 0.]\n",
      " [0. 0. 1. 0. 0.]\n",
      " [0. 0. 0. 1. 0.]\n",
      " [0. 0. 0. 0. 1.]]\n"
     ]
    }
   ],
   "source": [
    "# Create a 5x5 identity matrix\n",
    "identity_matrix = np.eye(5)\n",
    "print(\"5x5 identity matrix:\")\n",
    "print(identity_matrix)\n"
   ]
  },
  {
   "cell_type": "code",
   "execution_count": null,
   "id": "3207546b-c647-4aac-96a6-34da072eb8f1",
   "metadata": {},
   "outputs": [],
   "source": []
  }
 ],
 "metadata": {
  "kernelspec": {
   "display_name": "Python 3 (ipykernel)",
   "language": "python",
   "name": "python3"
  },
  "language_info": {
   "codemirror_mode": {
    "name": "ipython",
    "version": 3
   },
   "file_extension": ".py",
   "mimetype": "text/x-python",
   "name": "python",
   "nbconvert_exporter": "python",
   "pygments_lexer": "ipython3",
   "version": "3.10.8"
  }
 },
 "nbformat": 4,
 "nbformat_minor": 5
}
