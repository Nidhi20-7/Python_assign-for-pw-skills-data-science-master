{
 "cells": [
  {
   "cell_type": "code",
   "execution_count": 2,
   "id": "082b38d2-e3f8-4d53-b282-5f7f78aa1dca",
   "metadata": {},
   "outputs": [],
   "source": [
    "import pandas as pd\n",
    "course_name = ['Data Science', 'Machine Learning', 'Big Data', 'Data Engineer']\n",
    "duration = [2,3,6,4]\n",
    "df = pd.DataFrame(data = {'course_name' : course_name, 'duration' : duration})"
   ]
  },
  {
   "cell_type": "code",
   "execution_count": 4,
   "id": "fc0cc5c0-ca1b-4bec-b4cf-c119cb4fd0fb",
   "metadata": {},
   "outputs": [
    {
     "data": {
      "text/html": [
       "<div>\n",
       "<style scoped>\n",
       "    .dataframe tbody tr th:only-of-type {\n",
       "        vertical-align: middle;\n",
       "    }\n",
       "\n",
       "    .dataframe tbody tr th {\n",
       "        vertical-align: top;\n",
       "    }\n",
       "\n",
       "    .dataframe thead th {\n",
       "        text-align: right;\n",
       "    }\n",
       "</style>\n",
       "<table border=\"1\" class=\"dataframe\">\n",
       "  <thead>\n",
       "    <tr style=\"text-align: right;\">\n",
       "      <th></th>\n",
       "      <th>course_name</th>\n",
       "      <th>duration</th>\n",
       "    </tr>\n",
       "  </thead>\n",
       "  <tbody>\n",
       "    <tr>\n",
       "      <th>0</th>\n",
       "      <td>Data Science</td>\n",
       "      <td>2</td>\n",
       "    </tr>\n",
       "    <tr>\n",
       "      <th>1</th>\n",
       "      <td>Machine Learning</td>\n",
       "      <td>3</td>\n",
       "    </tr>\n",
       "    <tr>\n",
       "      <th>2</th>\n",
       "      <td>Big Data</td>\n",
       "      <td>6</td>\n",
       "    </tr>\n",
       "    <tr>\n",
       "      <th>3</th>\n",
       "      <td>Data Engineer</td>\n",
       "      <td>4</td>\n",
       "    </tr>\n",
       "  </tbody>\n",
       "</table>\n",
       "</div>"
      ],
      "text/plain": [
       "        course_name  duration\n",
       "0      Data Science         2\n",
       "1  Machine Learning         3\n",
       "2          Big Data         6\n",
       "3     Data Engineer         4"
      ]
     },
     "execution_count": 4,
     "metadata": {},
     "output_type": "execute_result"
    }
   ],
   "source": [
    "df.head()"
   ]
  },
  {
   "cell_type": "markdown",
   "id": "4a7d7207-0bb4-463f-94cd-678f7f6287b0",
   "metadata": {},
   "source": [
    "Q1. Write a code to print the data present in the second row of the dataframe, df."
   ]
  },
  {
   "cell_type": "code",
   "execution_count": 8,
   "id": "5b8b281f-b3e1-481f-b28f-f00074431215",
   "metadata": {},
   "outputs": [
    {
     "data": {
      "text/plain": [
       "course_name    Machine Learning\n",
       "duration                      3\n",
       "Name: 1, dtype: object"
      ]
     },
     "execution_count": 8,
     "metadata": {},
     "output_type": "execute_result"
    }
   ],
   "source": [
    "df.iloc[1]"
   ]
  },
  {
   "cell_type": "markdown",
   "id": "77b332bb-a24b-409e-875f-bd2d1c1a7f4e",
   "metadata": {},
   "source": [
    "What is the difference between the functions loc and iloc in pandas.DataFrame?"
   ]
  },
  {
   "cell_type": "markdown",
   "id": "83139ec8-1abb-491c-887f-3f955f4dcf34",
   "metadata": {},
   "source": [
    "Indexing Method:\n",
    "\n",
    "loc: Uses labels (e.g., df.loc['row1', 'col1'])\n",
    "iloc: Uses integer positions (e.g., df.iloc[0, 0])\n",
    "Inclusion of End Points in Slices:\n",
    "\n",
    "loc: Includes the end label (e.g., df.loc['row1':'row3'] includes 'row1', 'row2', and 'row3')\n",
    "iloc: Excludes the end index (e.g., df.iloc[0:3] includes rows 0, 1, and 2, but not 3)"
   ]
  },
  {
   "cell_type": "markdown",
   "id": "6b63e671-3745-4ede-8109-d9b15bd70df2",
   "metadata": {},
   "source": [
    "Q3. Reindex the given dataframe using a variable, reindex = [3,0,1,2] and store it in the variable, new_df\n",
    "then find the output for both new_df.loc[2] and new_df.iloc[2]."
   ]
  },
  {
   "cell_type": "code",
   "execution_count": 16,
   "id": "3d9dbb3c-9e1b-461a-9366-e373c208900e",
   "metadata": {},
   "outputs": [
    {
     "name": "stdout",
     "output_type": "stream",
     "text": [
      "\n",
      "Reindexed DataFrame:\n",
      "        course_name  duration\n",
      "3     Data Engineer         4\n",
      "0      Data Science         2\n",
      "1  Machine Learning         3\n",
      "2          Big Data         6\n",
      "course_name    Big Data\n",
      "duration              6\n",
      "Name: 2, dtype: object\n",
      "course_name    Machine Learning\n",
      "duration                      3\n",
      "Name: 1, dtype: object\n"
     ]
    }
   ],
   "source": [
    "reindex = [3, 0, 1, 2]\n",
    "\n",
    "# Reindexing the DataFrame\n",
    "new_df = df.reindex(reindex)\n",
    "print(\"\\nReindexed DataFrame:\")\n",
    "print(new_df)\n",
    "print(new_df.loc[2])\n",
    "print(new_df.iloc[2])"
   ]
  },
  {
   "cell_type": "code",
   "execution_count": 9,
   "id": "7bffd08a-2a48-4dcc-b11c-2220c8df65cc",
   "metadata": {},
   "outputs": [],
   "source": [
    "import pandas as pd\n",
    "import numpy as np\n",
    "columns = ['column_1', 'column_2', 'column_3', 'column_4', 'column_5', 'column_6']\n",
    "indices = [1,2,3,4,5,6]\n",
    "#Creating a dataframe:\n",
    "df1 = pd.DataFrame(np.random.rand(6,6), columns = columns, index = indices)"
   ]
  },
  {
   "cell_type": "code",
   "execution_count": 10,
   "id": "1b906464-4024-4275-af6a-bb301e85c8d8",
   "metadata": {},
   "outputs": [
    {
     "data": {
      "text/html": [
       "<div>\n",
       "<style scoped>\n",
       "    .dataframe tbody tr th:only-of-type {\n",
       "        vertical-align: middle;\n",
       "    }\n",
       "\n",
       "    .dataframe tbody tr th {\n",
       "        vertical-align: top;\n",
       "    }\n",
       "\n",
       "    .dataframe thead th {\n",
       "        text-align: right;\n",
       "    }\n",
       "</style>\n",
       "<table border=\"1\" class=\"dataframe\">\n",
       "  <thead>\n",
       "    <tr style=\"text-align: right;\">\n",
       "      <th></th>\n",
       "      <th>column_1</th>\n",
       "      <th>column_2</th>\n",
       "      <th>column_3</th>\n",
       "      <th>column_4</th>\n",
       "      <th>column_5</th>\n",
       "      <th>column_6</th>\n",
       "    </tr>\n",
       "  </thead>\n",
       "  <tbody>\n",
       "    <tr>\n",
       "      <th>1</th>\n",
       "      <td>0.668424</td>\n",
       "      <td>0.016581</td>\n",
       "      <td>0.705911</td>\n",
       "      <td>0.348852</td>\n",
       "      <td>0.174371</td>\n",
       "      <td>0.664779</td>\n",
       "    </tr>\n",
       "    <tr>\n",
       "      <th>2</th>\n",
       "      <td>0.390885</td>\n",
       "      <td>0.346026</td>\n",
       "      <td>0.459202</td>\n",
       "      <td>0.085647</td>\n",
       "      <td>0.414274</td>\n",
       "      <td>0.872140</td>\n",
       "    </tr>\n",
       "    <tr>\n",
       "      <th>3</th>\n",
       "      <td>0.375868</td>\n",
       "      <td>0.961590</td>\n",
       "      <td>0.321544</td>\n",
       "      <td>0.985037</td>\n",
       "      <td>0.350516</td>\n",
       "      <td>0.478212</td>\n",
       "    </tr>\n",
       "    <tr>\n",
       "      <th>4</th>\n",
       "      <td>0.124245</td>\n",
       "      <td>0.979012</td>\n",
       "      <td>0.731636</td>\n",
       "      <td>0.917712</td>\n",
       "      <td>0.220808</td>\n",
       "      <td>0.978589</td>\n",
       "    </tr>\n",
       "    <tr>\n",
       "      <th>5</th>\n",
       "      <td>0.833363</td>\n",
       "      <td>0.800839</td>\n",
       "      <td>0.881444</td>\n",
       "      <td>0.024535</td>\n",
       "      <td>0.026682</td>\n",
       "      <td>0.549160</td>\n",
       "    </tr>\n",
       "  </tbody>\n",
       "</table>\n",
       "</div>"
      ],
      "text/plain": [
       "   column_1  column_2  column_3  column_4  column_5  column_6\n",
       "1  0.668424  0.016581  0.705911  0.348852  0.174371  0.664779\n",
       "2  0.390885  0.346026  0.459202  0.085647  0.414274  0.872140\n",
       "3  0.375868  0.961590  0.321544  0.985037  0.350516  0.478212\n",
       "4  0.124245  0.979012  0.731636  0.917712  0.220808  0.978589\n",
       "5  0.833363  0.800839  0.881444  0.024535  0.026682  0.549160"
      ]
     },
     "execution_count": 10,
     "metadata": {},
     "output_type": "execute_result"
    }
   ],
   "source": [
    "df1.head()"
   ]
  },
  {
   "cell_type": "markdown",
   "id": "763a5eeb-b3c6-4162-a53f-7a424ca2f231",
   "metadata": {},
   "source": [
    "Q4. Write a code to find the following statistical measurements for the above dataframe df1:\n",
    "(i) mean of each and every column present in the dataframe.\n",
    "(ii) standard deviation of column, ‘column_2’"
   ]
  },
  {
   "cell_type": "code",
   "execution_count": 13,
   "id": "5526e053-c68a-4ac0-9f2c-313f9c605354",
   "metadata": {},
   "outputs": [
    {
     "name": "stdout",
     "output_type": "stream",
     "text": [
      "0.4053618664463367\n",
      "0.6788825504435286\n",
      "0.6801568889348165\n",
      "0.45123071143734506\n",
      "0.3557663761439119\n",
      "0.6980091081208929\n"
     ]
    }
   ],
   "source": [
    "for i in df1.columns:\n",
    "    print(df1[i].mean())"
   ]
  },
  {
   "cell_type": "code",
   "execution_count": 17,
   "id": "91f836e8-553e-4588-be54-f4a5c99e5bd6",
   "metadata": {},
   "outputs": [
    {
     "data": {
      "text/plain": [
       "0.40462881131161504"
      ]
     },
     "execution_count": 17,
     "metadata": {},
     "output_type": "execute_result"
    }
   ],
   "source": [
    "df1['column_2'].std()"
   ]
  },
  {
   "cell_type": "code",
   "execution_count": 18,
   "id": "2041a04a-909f-4ce3-8257-9ab8affdc267",
   "metadata": {},
   "outputs": [],
   "source": [
    "df1.loc[1, 'column_2'] = 'string_value'"
   ]
  },
  {
   "cell_type": "code",
   "execution_count": 20,
   "id": "da19d77b-c2c0-46a9-8cb9-22aa1bcec3f5",
   "metadata": {},
   "outputs": [
    {
     "name": "stdout",
     "output_type": "stream",
     "text": [
      "Error: can only concatenate str (not \"float\") to str\n"
     ]
    }
   ],
   "source": [
    "try:\n",
    "    mean_column_2 = df1['column_2'].mean()\n",
    "    print(f\"The mean of column_2 is: {mean_column_2}\")\n",
    "except TypeError as e:\n",
    "    print(f\"Error: {e}\")\n"
   ]
  },
  {
   "cell_type": "markdown",
   "id": "897e48e0-8df5-492e-84ff-859f998bb5e4",
   "metadata": {},
   "source": [
    "Q6. What do you understand about the windows function in pandas and list the types of windows\n",
    "functions?"
   ]
  },
  {
   "cell_type": "markdown",
   "id": "fe8d5f91-5fb3-4275-9bba-df7b35364a36",
   "metadata": {},
   "source": [
    "Q6. What do you understand about the windows function in pandas and list the types of windows\n",
    "functions?\n",
    "\n",
    "**Concept:**\n",
    "\n",
    "Imagine a window sliding across your DataFrame rows. This window captures a specific number of rows based on the window function being used. Window functions perform some aggregation or transformation on the values within this window for each row in the DataFrame.\n",
    "\n",
    "**Types of Window Functions in Pandas:**\n",
    "\n",
    "Pandas provides several window functions, broadly categorized into three main types:\n",
    "\n",
    "1. **Aggregate Functions:**\n",
    "   - These functions perform calculations like `sum`, `mean`, `min`, `max`, etc., on the values within the window for each row.\n",
    "   - Examples: `rolling.sum()`, `expanding.mean()`, etc.\n",
    "\n",
    "2. **Ranking Functions:**\n",
    "   - These functions assign ranks to each data point based on a specific order within the window.\n",
    "   - Examples: `rank()`, `pct_change()`, etc.\n",
    "\n",
    "3. **Value Functions:**\n",
    "   - These functions return values based on specific positions within the window for each row.\n",
    "   - Examples: `shift()`, `cumsum()`, etc.\n",
    "\n",
    "**Additional Notes:**\n",
    "\n",
    "* The type of window (rolling, expanding, or exponential) determines how the window moves across the DataFrame.\n",
    "  - Rolling window: Fixed size window that slides across the data.\n",
    "  - Expanding window: Window that grows as it moves, encompassing all data up to the current row.\n",
    "  - Exponential window: Similar to rolling window, but applies weights to the data points within the window, with more weight given to recent observations.\n",
    "* Pandas provides functions like `rolling()`, `expanding()`, and `ewm()` to create these different window types.\n",
    "\n"
   ]
  },
  {
   "cell_type": "code",
   "execution_count": 21,
   "id": "7126d261-56db-4035-a67d-a1893939218d",
   "metadata": {},
   "outputs": [
    {
     "name": "stdout",
     "output_type": "stream",
     "text": [
      "Current Month: June, Year: 2024\n"
     ]
    }
   ],
   "source": [
    "import datetime\n",
    "\n",
    "# Get current date\n",
    "now = datetime.datetime.now()\n",
    "\n",
    "# Extract month and year as strings\n",
    "current_month = now.strftime(\"%B\")  # Full month name\n",
    "current_year = now.strftime(\"%Y\")  # Year\n",
    "\n",
    "# Print result\n",
    "print(f\"Current Month: {current_month}, Year: {current_year}\")"
   ]
  },
  {
   "cell_type": "code",
   "execution_count": 22,
   "id": "dba63ac8-7369-4a64-8ce1-57de8b20d84e",
   "metadata": {},
   "outputs": [
    {
     "name": "stdin",
     "output_type": "stream",
     "text": [
      "Enter first date (YYYY-MM-DD):  2024-07-20\n",
      "Enter second date (YYYY-MM-DD):  2002-07-20\n"
     ]
    },
    {
     "name": "stdout",
     "output_type": "stream",
     "text": [
      "Difference: -8036 days, 0 hours, 0 minutes.\n"
     ]
    }
   ],
   "source": [
    "from datetime import datetime\n",
    "\n",
    "def calculate_date_difference(date1, date2):\n",
    "  \"\"\"\n",
    "  Calculates the difference between two dates in days, hours, and minutes.\n",
    "\n",
    "  Args:\n",
    "      date1 (str): Date in YYYY-MM-DD format.\n",
    "      date2 (str): Date in YYYY-MM-DD format.\n",
    "\n",
    "  Returns:\n",
    "      str: A string representation of the difference in days, hours, and minutes.\n",
    "  \"\"\"\n",
    "\n",
    "  # Convert strings to datetime objects\n",
    "  date1_obj = datetime.strptime(date1, \"%Y-%m-%d\")\n",
    "  date2_obj = datetime.strptime(date2, \"%Y-%m-%d\")\n",
    "\n",
    "  # Calculate timedelta in days\n",
    "  time_delta = date2_obj - date1_obj\n",
    "  days = time_delta.days\n",
    "\n",
    "  # Extract hours and minutes from timedelta seconds\n",
    "  hours = int(time_delta.seconds / 3600)\n",
    "  minutes = int((time_delta.seconds % 3600) / 60)\n",
    "\n",
    "  # Return formatted difference string\n",
    "  return f\"Difference: {days} days, {hours} hours, {minutes} minutes.\"\n",
    "\n",
    "# Get user input for dates\n",
    "date1 = input(\"Enter first date (YYYY-MM-DD): \")\n",
    "date2 = input(\"Enter second date (YYYY-MM-DD): \")\n",
    "\n",
    "# Calculate and display difference\n",
    "difference = calculate_date_difference(date1, date2)\n",
    "print(difference)\n"
   ]
  },
  {
   "cell_type": "code",
   "execution_count": null,
   "id": "18d5d996-3304-4735-adef-07b4ffea6899",
   "metadata": {},
   "outputs": [],
   "source": []
  }
 ],
 "metadata": {
  "kernelspec": {
   "display_name": "Python 3 (ipykernel)",
   "language": "python",
   "name": "python3"
  },
  "language_info": {
   "codemirror_mode": {
    "name": "ipython",
    "version": 3
   },
   "file_extension": ".py",
   "mimetype": "text/x-python",
   "name": "python",
   "nbconvert_exporter": "python",
   "pygments_lexer": "ipython3",
   "version": "3.10.8"
  }
 },
 "nbformat": 4,
 "nbformat_minor": 5
}
