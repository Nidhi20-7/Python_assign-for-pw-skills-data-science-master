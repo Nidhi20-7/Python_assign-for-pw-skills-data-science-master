{
 "cells": [
  {
   "cell_type": "markdown",
   "id": "2fb8219e",
   "metadata": {},
   "source": [
    "Q1. What is Statistics?"
   ]
  },
  {
   "cell_type": "markdown",
   "id": "219f62fa",
   "metadata": {},
   "source": [
    "Statistics is a branch of mathematics that involves collecting, analyzing, interpreting, and presenting data. It provides a set of tools and techniques for understanding and making sense of numerical and categorical data, and for drawing conclusions and making decisions based on that data."
   ]
  },
  {
   "cell_type": "markdown",
   "id": "2da394bd",
   "metadata": {},
   "source": [
    "Q2. Define the different types of statistics and give an example of when each type might be used."
   ]
  },
  {
   "cell_type": "markdown",
   "id": "85e9a33d",
   "metadata": {},
   "source": [
    "There are two main types of statistics: descriptive statistics and inferential statistics.\n",
    "\n",
    "Descriptive statistics: Descriptive statistics is the branch of statistics that involves summarizing and describing data using numerical measures and graphical representations. It is used to provide a snapshot of the data and to identify patterns and trends.\n",
    "Example: Suppose you are a business owner and want to know how much money your company earned last year. You would use descriptive statistics to calculate the mean (average) income, the median income (the middle value of all the incomes), and the standard deviation (a measure of the spread of the data around the mean) of your company's income.\n",
    "\n",
    "Inferential statistics: Inferential statistics is the branch of statistics that involves making inferences and drawing conclusions about a population based on a sample of data. It is used to test hypotheses and make predictions.\n",
    "Example: Suppose you want to know if a new medication is effective in reducing blood pressure. You would conduct a study where you randomly assign some people to receive the medication and some to receive a placebo, then measure their blood pressure before and after the treatment. You would use inferential statistics to determine if the difference in blood pressure between the two groups is statistically significant, and if so, conclude that the medication is effective in reducing blood pressure.\n",
    "\n",
    "\n",
    "\n",
    "\n",
    "\n"
   ]
  },
  {
   "cell_type": "markdown",
   "id": "b9847a93",
   "metadata": {},
   "source": [
    "Q3. What are the different types of data and how do they differ from each other? Provide an example of\n",
    "each type of data."
   ]
  },
  {
   "cell_type": "markdown",
   "id": "59684ad1",
   "metadata": {},
   "source": [
    "There are two types of data :\n",
    "1.Quantitative (also known as numerical)\n",
    "2.Qualitative (also known as categorical)\n",
    "\n",
    "1.Quantitative data: Quantitative data is data that can be measured and expressed numerically. It is often collected through methods such as surveys, experiments, and observations, and can be analyzed using statistical methods.\n",
    "Quantitative data can be further divided into discrete and continuous data.\n",
    "\n",
    "Discrete data: Discrete data consists of whole numbers or a finite set of values. It is often represented by counts or frequencies.\n",
    "Example: The number of students in a class is discrete data because it can only take on whole number values (e.g., 20, 21, 22, etc.).\n",
    "\n",
    "Continuous data: Continuous data can take on any value within a range and is often measured using instruments such as rulers, scales, or thermometers.\n",
    "Example: The weight of a person is continuous data because it can take on any value within a range (e.g., 60.5 kg, 62.3 kg, 64.7 kg, etc.).\n",
    "\n",
    "2.Qualitative data: Qualitative data is data that is non-numerical and describes qualities or characteristics of a phenomenon. It is often collected through methods such as interviews, focus groups, and observations, and can be analyzed using qualitative methods such as content analysis or grounded theory.\n",
    "\n",
    "Qualitative data can be further divided into two types: nominal and ordinal data.\n",
    "\n",
    "Nominal data: Nominal data is categorical data where data is assigned to different categories. It has no inherent order or rank.\n",
    "Example: Gender, race, and religion are examples of nominal data. A person can be classified as male or female, white or black, Christian or Muslim, but there is no inherent order to the categories.\n",
    "\n",
    "Ordinal data: Ordinal data is similar to nominal data but has an inherent order or rank to the categories.\n",
    "Example: Educational level, income level, and level of agreement are examples of ordinal data. The categories have a rank, but the distance between categories is not necessarily equal.\n",
    "\n",
    "Qualitative data is important in fields such as sociology, anthropology, and psychology, where it is used to understand the meanings, perceptions, and experiences of individuals and groups, and to generate new theories and hypotheses.\n",
    "\n",
    "\n",
    "\n",
    "\n",
    "\n",
    "\n",
    "\n",
    "\n",
    "\n",
    "\n",
    "\n",
    "\n"
   ]
  },
  {
   "cell_type": "markdown",
   "id": "4221985d",
   "metadata": {},
   "source": [
    "Q4. Categorise the following datasets with respect to quantitative and qualitative data types:\n",
    "(i) Grading in exam: A+, A, B+, B, C+, C, D, E\n",
    "(ii) Colour of mangoes: yellow, green, orange, red\n",
    "(iii) Height data of a class: [178.9, 179, 179.5, 176, 177.2, 178.3, 175.8,...]\n",
    "(iv) Number of mangoes exported by a farm: [500, 600, 478, 672, ...]"
   ]
  },
  {
   "cell_type": "markdown",
   "id": "04f4dfac",
   "metadata": {},
   "source": [
    "(i) Grading in exam: Qualitative (Ordinal)\n",
    "(ii) Colour of mangoes: Qualitative (Nominal)\n",
    "(iii) Height data of a class: Quantitative (Continuous)\n",
    "(iv) Number of mangoes exported by a farm: Quantitative (Discrete)"
   ]
  },
  {
   "cell_type": "markdown",
   "id": "3f86613d",
   "metadata": {},
   "source": [
    "Q5. Explain the concept of levels of measurement and give an example of a variable for each level."
   ]
  },
  {
   "cell_type": "markdown",
   "id": "a6d26b6e",
   "metadata": {},
   "source": [
    "Levels of measurement refer to the different ways in which data can be measured and categorized. There are four main levels of measurement: nominal, ordinal, interval, and ratio.\n",
    "\n",
    "Nominal level of measurement: This level of measurement involves variables that can be categorized but not ranked. Nominal variables are qualitative data types where data is assigned to different categories.\n",
    "Example: Gender (male/female), blood type (A, B, AB, O), race (Asian, African American, Caucasian).\n",
    "\n",
    "Ordinal level of measurement: This level of measurement involves variables that can be categorized and ranked. Ordinal variables are qualitative data types where the categories have a natural order or rank.\n",
    "Example: Grades (A+, A, B+, B, C+, C, D, E), socioeconomic status (low, middle, high), level of education (elementary, middle, high school, college).\n",
    "\n",
    "Interval level of measurement: This level of measurement involves variables that can be measured on a scale where the distance between two values is equal but there is no true zero point.\n",
    "Example: Temperature (Celsius, Fahrenheit), time of day (hours, minutes, seconds), IQ scores (100, 120, 140, etc.)\n",
    "\n",
    "Ratio level of measurement: This level of measurement involves variables that can be measured on a scale where the distance between two values is equal and there is a true zero point.\n",
    "Example: Weight (in kg or pounds), height (in cm or inches), distance (in meters or feet).\n",
    "\n",
    "\n",
    "\n",
    "\n",
    "\n"
   ]
  },
  {
   "cell_type": "markdown",
   "id": "bfe61877",
   "metadata": {},
   "source": [
    "Q6. Why is it important to understand the level of measurement when analyzing data? Provide an\n",
    "example to illustrate your answer."
   ]
  },
  {
   "cell_type": "markdown",
   "id": "9c3e29dd",
   "metadata": {},
   "source": [
    "Understanding the level of measurement is crucial when analyzing data because it determines which statistical tests can be used to analyze the data, and it affects the types of conclusions that can be drawn from the analysis.\n",
    "\n",
    "For example, using an inappropriate statistical test can lead to incorrect conclusions, which can have serious consequences in research or decision-making processes. If data is analyzed using a test that is not appropriate for the level of measurement, the results may be invalid or misleading.\n",
    "\n",
    "Let's consider an example: Suppose we are studying the effect of a new medication on blood pressure. We measure the blood pressure of 100 patients before and after taking the medication. We want to know if there is a significant difference in blood pressure before and after taking the medication.\n",
    "\n",
    "If the blood pressure measurements are nominal or ordinal, we cannot use statistical tests that require continuous data such as a t-test or ANOVA. Instead, we may use a non-parametric test such as the Wilcoxon signed-rank test or the Mann-Whitney U test.\n",
    "\n",
    "On the other hand, if the blood pressure measurements are interval or ratio, we can use parametric tests such as the paired t-test or the unpaired t-test.\n",
    "\n",
    "In summary, understanding the level of measurement is important because it helps us choose appropriate statistical tests and draw accurate conclusions from the data.\n",
    "\n",
    "\n",
    "\n",
    "\n",
    "\n"
   ]
  },
  {
   "cell_type": "markdown",
   "id": "42cbfd9f",
   "metadata": {},
   "source": [
    "Q7. How nominal data type is different from ordinal data type."
   ]
  },
  {
   "cell_type": "markdown",
   "id": "e6a5135f",
   "metadata": {},
   "source": [
    "Nominal and ordinal data are both types of qualitative data, but they differ in terms of the level of measurement.\n",
    "\n",
    "Nominal data refers to data that can be placed into categories or groups, but the categories have no inherent order or ranking. Nominal data is often referred to as categorical data.\n",
    "\n",
    "For example, in a survey of favorite colors, the responses of red, blue, green, and yellow would be nominal data. There is no inherent order or ranking to these categories, they are simply different categories of responses.\n",
    "\n",
    "On the other hand, ordinal data also refers to data that can be placed into categories or groups, but the categories have an inherent order or ranking.\n",
    "\n",
    "For example, if you were asked to rate your level of satisfaction with a product on a scale of 1 to 5, the responses would be ordinal data. The responses have an inherent order or ranking, with 1 being the lowest level of satisfaction and 5 being the highest level of satisfaction."
   ]
  },
  {
   "cell_type": "markdown",
   "id": "5be15f3c",
   "metadata": {},
   "source": [
    "Q8. Which type of plot can be used to display data in terms of range?"
   ]
  },
  {
   "cell_type": "markdown",
   "id": "382d86c1",
   "metadata": {},
   "source": [
    "A box plot or a box-and-whisker plot is commonly used to display data in terms of range. The box plot displays the distribution of data based on five summary statistics: minimum, first quartile (Q1), median, third quartile (Q3), and maximum. The box in the plot represents the interquartile range (IQR), which is the range between the first and third quartile. The whiskers extend from the box to the minimum and maximum values."
   ]
  },
  {
   "cell_type": "markdown",
   "id": "b953ded9",
   "metadata": {},
   "source": [
    "Q9. Describe the difference between descriptive and inferential statistics. Give an example of each\n",
    "type of statistics and explain how they are used."
   ]
  },
  {
   "cell_type": "markdown",
   "id": "09f7bbe8",
   "metadata": {},
   "source": [
    "Descriptive statistics is used to describe and summarize the data, while inferential statistics is used to make inferences and draw conclusions about a population based on a sample.\n",
    "For example, if we have a dataset of the heights of 50 students in a class, we can calculate the mean height, median height, and standard deviation to describe the distribution of heights in the class. This will give us a better understanding of the range and distribution of the heights in the class.\n",
    "If we want to know the average height of all students in a school (population), but we only have data from a sample of 50 students, we can use inferential statistics to estimate the population mean height and calculate the margin of error."
   ]
  },
  {
   "cell_type": "markdown",
   "id": "0d826b61",
   "metadata": {},
   "source": [
    "Q10. What are some common measures of central tendency and variability used in statistics? Explain\n",
    "how each measure can be used to describe a dataset."
   ]
  },
  {
   "cell_type": "markdown",
   "id": "fe9dcd03",
   "metadata": {},
   "source": [
    "In statistics, measures of central tendency and variability are used to describe the characteristics of a dataset. The three most commonly used measures of central tendency are the mean, median, and mode, while the most commonly used measures of variability are the range, variance, and standard deviation."
   ]
  }
 ],
 "metadata": {
  "kernelspec": {
   "display_name": "Python 3 (ipykernel)",
   "language": "python",
   "name": "python3"
  },
  "language_info": {
   "codemirror_mode": {
    "name": "ipython",
    "version": 3
   },
   "file_extension": ".py",
   "mimetype": "text/x-python",
   "name": "python",
   "nbconvert_exporter": "python",
   "pygments_lexer": "ipython3",
   "version": "3.10.5"
  }
 },
 "nbformat": 4,
 "nbformat_minor": 5
}
