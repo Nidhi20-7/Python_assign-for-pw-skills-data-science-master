{
 "cells": [
  {
   "cell_type": "markdown",
   "id": "1e00cad9-59b4-48f4-a0f0-2de79fd022c6",
   "metadata": {},
   "source": [
    "Q1. List any five functions of the pandas library with execution.\n",
    "Here are five functions of the pandas library with examples:\n",
    "\n",
    "pd.read_csv(): Reads a CSV file into a DataFrame.\n",
    "df.head(): Returns the first n rows of the DataFrame.\n",
    "df.describe(): Generates descriptive statistics of the DataFrame.\n",
    "df.groupby(): Groups the DataFrame using a mapper or by a Series of columns.\n",
    "df.merge(): Merges DataFrame objects by performing a database-style join operation."
   ]
  },
  {
   "cell_type": "markdown",
   "id": "c7de847e-87a7-4489-bb8e-d2ee9e5296b5",
   "metadata": {},
   "source": [
    "Q2. Re-index the DataFrame with a new index that starts from 1 and increments by 2 for each row."
   ]
  },
  {
   "cell_type": "code",
   "execution_count": 2,
   "id": "93a36664-195a-4392-a4b9-262f5067e34e",
   "metadata": {},
   "outputs": [
    {
     "name": "stdout",
     "output_type": "stream",
     "text": [
      "   A  B  C\n",
      "1  1  4  7\n",
      "3  2  5  8\n",
      "5  3  6  9\n"
     ]
    }
   ],
   "source": [
    "import pandas as pd\n",
    "def reindex_dataframe(df):\n",
    "    df.index = range(1, 2 * len(df) + 1, 2)\n",
    "    return df\n",
    "\n",
    "# Example DataFrame\n",
    "df = pd.DataFrame({'A': [1, 2, 3], 'B': [4, 5, 6], 'C': [7, 8, 9]})\n",
    "df = reindex_dataframe(df)\n",
    "print(df)\n"
   ]
  },
  {
   "cell_type": "markdown",
   "id": "aabbe89b-fb06-40d5-92cd-c0a590f857d4",
   "metadata": {},
   "source": [
    "Q3. Calculate the sum of the first three values in the 'Values' column.\n"
   ]
  },
  {
   "cell_type": "code",
   "execution_count": 3,
   "id": "7ad51033-e56e-4729-893a-ce908f8aa493",
   "metadata": {},
   "outputs": [
    {
     "name": "stdout",
     "output_type": "stream",
     "text": [
      "Sum of the first three values: 60\n"
     ]
    }
   ],
   "source": [
    "def sum_first_three(df):\n",
    "    result = df['Values'][:3].sum()\n",
    "    print(\"Sum of the first three values:\", result)\n",
    "\n",
    "# Example DataFrame\n",
    "df = pd.DataFrame({'Values': [10, 20, 30, 40, 50]})\n",
    "sum_first_three(df)\n"
   ]
  },
  {
   "cell_type": "markdown",
   "id": "3cdd12fd-a775-4033-af5c-1450b265ea57",
   "metadata": {},
   "source": [
    "Q4. Create a new column 'Word_Count' that contains the number of words in each row of the 'Text' column."
   ]
  },
  {
   "cell_type": "code",
   "execution_count": 4,
   "id": "46201b8d-e214-4866-b8d5-b887cf0523cd",
   "metadata": {},
   "outputs": [
    {
     "name": "stdout",
     "output_type": "stream",
     "text": [
      "              Text  Word_Count\n",
      "0      Hello world           2\n",
      "1   This is a test           4\n",
      "2  Pandas is great           3\n"
     ]
    }
   ],
   "source": [
    "def add_word_count_column(df):\n",
    "    df['Word_Count'] = df['Text'].apply(lambda x: len(str(x).split()))\n",
    "    return df\n",
    "\n",
    "# Example DataFrame\n",
    "df = pd.DataFrame({'Text': ['Hello world', 'This is a test', 'Pandas is great']})\n",
    "df = add_word_count_column(df)\n",
    "print(df)\n"
   ]
  },
  {
   "cell_type": "markdown",
   "id": "39a78e65-c965-4f34-a0f6-59282e1d5888",
   "metadata": {},
   "source": [
    "Q5. Difference between DataFrame.size() and DataFrame.shape().\n",
    "\n",
    "DataFrame.size: Returns the number of elements in the DataFrame (rows * columns).\n",
    "\n",
    "DataFrame.shape: Returns a tuple representing the dimensionality of the DataFrame (rows, columns)."
   ]
  },
  {
   "cell_type": "markdown",
   "id": "26d5866b-0a29-4b9c-adf4-d0948d2c89f9",
   "metadata": {},
   "source": [
    "Q6. Which function of pandas is used to read an Excel file?\n",
    "\n",
    "The function used to read an Excel file in pandas is pd.read_excel()."
   ]
  },
  {
   "cell_type": "markdown",
   "id": "93a2fea1-e05e-43a7-af66-a0bf6f1de177",
   "metadata": {},
   "source": [
    "Q7. Create a new column 'Username' from the 'Email' column."
   ]
  },
  {
   "cell_type": "code",
   "execution_count": 5,
   "id": "8ed7edb5-d2e3-46b8-a8a2-0a480ddb2076",
   "metadata": {},
   "outputs": [
    {
     "name": "stdout",
     "output_type": "stream",
     "text": [
      "                  Email  Username\n",
      "0  john.doe@example.com  john.doe\n",
      "1  jane.doe@example.com  jane.doe\n"
     ]
    }
   ],
   "source": [
    "def extract_username(df):\n",
    "    df['Username'] = df['Email'].apply(lambda x: x.split('@')[0])\n",
    "    return df\n",
    "\n",
    "# Example DataFrame\n",
    "df = pd.DataFrame({'Email': ['john.doe@example.com', 'jane.doe@example.com']})\n",
    "df = extract_username(df)\n",
    "print(df)\n"
   ]
  },
  {
   "cell_type": "markdown",
   "id": "bcdebe48-c5ee-4c24-8436-d840633672f5",
   "metadata": {},
   "source": [
    "Q8. Select rows where 'A' > 5 and 'B' < 10."
   ]
  },
  {
   "cell_type": "code",
   "execution_count": 6,
   "id": "22d23251-ef87-4b6b-84c9-01e66c5677a5",
   "metadata": {},
   "outputs": [
    {
     "name": "stdout",
     "output_type": "stream",
     "text": [
      "   A  B  C\n",
      "1  8  2  7\n",
      "2  6  9  4\n",
      "4  9  1  2\n"
     ]
    }
   ],
   "source": [
    "def filter_dataframe(df):\n",
    "    return df[(df['A'] > 5) & (df['B'] < 10)]\n",
    "\n",
    "# Example DataFrame\n",
    "df = pd.DataFrame({'A': [3, 8, 6, 2, 9], 'B': [5, 2, 9, 3, 1], 'C': [1, 7, 4, 5, 2]})\n",
    "filtered_df = filter_dataframe(df)\n",
    "print(filtered_df)\n"
   ]
  },
  {
   "cell_type": "markdown",
   "id": "32b6157b-35e8-4b18-b90e-f0f1796ba530",
   "metadata": {},
   "source": [
    "Q9. Calculate the mean, median, and standard deviation of the 'Values' column."
   ]
  },
  {
   "cell_type": "code",
   "execution_count": 7,
   "id": "10c6f0b5-1881-4357-a657-bf872be0af5c",
   "metadata": {},
   "outputs": [
    {
     "name": "stdout",
     "output_type": "stream",
     "text": [
      "Mean: 30.0\n",
      "Median: 30.0\n",
      "Standard Deviation: 15.811388300841896\n"
     ]
    }
   ],
   "source": [
    "def calculate_statistics(df):\n",
    "    mean_value = df['Values'].mean()\n",
    "    median_value = df['Values'].median()\n",
    "    std_deviation = df['Values'].std()\n",
    "    return mean_value, median_value, std_deviation\n",
    "\n",
    "# Example DataFrame\n",
    "df = pd.DataFrame({'Values': [10, 20, 30, 40, 50]})\n",
    "mean, median, std = calculate_statistics(df)\n",
    "print(\"Mean:\", mean)\n",
    "print(\"Median:\", median)\n",
    "print(\"Standard Deviation:\", std)\n"
   ]
  },
  {
   "cell_type": "markdown",
   "id": "a825085f-eb09-4879-8dbe-73779e1d304e",
   "metadata": {},
   "source": [
    "Q10. Create a 'MovingAverage' column with a window of size 7."
   ]
  },
  {
   "cell_type": "code",
   "execution_count": 8,
   "id": "cc965036-9123-4b02-9d6d-b14aa694954f",
   "metadata": {},
   "outputs": [
    {
     "name": "stdout",
     "output_type": "stream",
     "text": [
      "        Date  Sales  MovingAverage\n",
      "0 2023-01-01      1            NaN\n",
      "1 2023-01-02      2            NaN\n",
      "2 2023-01-03      3            NaN\n",
      "3 2023-01-04      4            NaN\n",
      "4 2023-01-05      5            NaN\n",
      "5 2023-01-06      6            NaN\n",
      "6 2023-01-07      7            4.0\n",
      "7 2023-01-08      8            5.0\n",
      "8 2023-01-09      9            6.0\n",
      "9 2023-01-10     10            7.0\n"
     ]
    }
   ],
   "source": [
    "def add_moving_average(df):\n",
    "    df['MovingAverage'] = df['Sales'].rolling(window=7).mean()\n",
    "    return df\n",
    "\n",
    "# Example DataFrame\n",
    "df = pd.DataFrame({\n",
    "    'Date': pd.date_range(start='2023-01-01', periods=10),\n",
    "    'Sales': [1, 2, 3, 4, 5, 6, 7, 8, 9, 10]\n",
    "})\n",
    "df = add_moving_average(df)\n",
    "print(df)\n"
   ]
  },
  {
   "cell_type": "markdown",
   "id": "231a7375-2ea3-440f-bbb8-52a7fa184974",
   "metadata": {},
   "source": [
    "Q11  Create a 'Weekday' column from the 'Date' column."
   ]
  },
  {
   "cell_type": "code",
   "execution_count": 10,
   "id": "cad05fb2-71f7-412f-bf32-c5084c06bc12",
   "metadata": {},
   "outputs": [
    {
     "name": "stdout",
     "output_type": "stream",
     "text": [
      "        Date    Weekday\n",
      "0 2023-01-01     Sunday\n",
      "1 2023-01-02     Monday\n",
      "2 2023-01-03    Tuesday\n",
      "3 2023-01-04  Wednesday\n",
      "4 2023-01-05   Thursday\n"
     ]
    }
   ],
   "source": [
    "def add_weekday_column(df):\n",
    "    df['Weekday'] = df['Date'].dt.day_name()\n",
    "    return df\n",
    "\n",
    "# Example DataFrame\n",
    "df = pd.DataFrame({\n",
    "    'Date': pd.date_range(start='2023-01-01', periods=5)\n",
    "})\n",
    "df = add_weekday_column(df)\n",
    "print(df)\n"
   ]
  },
  {
   "cell_type": "markdown",
   "id": "88085e99-4dc2-4fa0-8f47-2b61c84204e5",
   "metadata": {},
   "source": [
    "Q12. Select rows where the date is between '2023-01-01' and '2023-01-31'."
   ]
  },
  {
   "cell_type": "code",
   "execution_count": 11,
   "id": "bbb83e56-3a33-40f0-a943-b221804a55ab",
   "metadata": {},
   "outputs": [
    {
     "name": "stdout",
     "output_type": "stream",
     "text": [
      "         Date\n",
      "0  2023-01-01\n",
      "1  2023-01-02\n",
      "2  2023-01-03\n",
      "3  2023-01-04\n",
      "4  2023-01-05\n",
      "5  2023-01-06\n",
      "6  2023-01-07\n",
      "7  2023-01-08\n",
      "8  2023-01-09\n",
      "9  2023-01-10\n",
      "10 2023-01-11\n",
      "11 2023-01-12\n",
      "12 2023-01-13\n",
      "13 2023-01-14\n",
      "14 2023-01-15\n",
      "15 2023-01-16\n",
      "16 2023-01-17\n",
      "17 2023-01-18\n",
      "18 2023-01-19\n",
      "19 2023-01-20\n",
      "20 2023-01-21\n",
      "21 2023-01-22\n",
      "22 2023-01-23\n",
      "23 2023-01-24\n",
      "24 2023-01-25\n",
      "25 2023-01-26\n",
      "26 2023-01-27\n",
      "27 2023-01-28\n",
      "28 2023-01-29\n",
      "29 2023-01-30\n",
      "30 2023-01-31\n"
     ]
    }
   ],
   "source": [
    "def select_date_range(df):\n",
    "    start_date = '2023-01-01'\n",
    "    end_date = '2023-01-31'\n",
    "    mask = (df['Date'] >= start_date) & (df['Date'] <= end_date)\n",
    "    return df.loc[mask]\n",
    "\n",
    "# Example DataFrame\n",
    "df = pd.DataFrame({\n",
    "    'Date': pd.date_range(start='2023-01-01', periods=40)\n",
    "})\n",
    "filtered_df = select_date_range(df)\n",
    "print(filtered_df)\n"
   ]
  },
  {
   "cell_type": "markdown",
   "id": "980d3d24-3982-4b3a-95a4-027ccbac3f10",
   "metadata": {},
   "source": [
    "Q13. The first and foremost necessary library to import for using pandas."
   ]
  },
  {
   "cell_type": "code",
   "execution_count": null,
   "id": "114d5076-bff3-4dae-b60f-cbf42a912669",
   "metadata": {},
   "outputs": [],
   "source": []
  }
 ],
 "metadata": {
  "kernelspec": {
   "display_name": "Python 3 (ipykernel)",
   "language": "python",
   "name": "python3"
  },
  "language_info": {
   "codemirror_mode": {
    "name": "ipython",
    "version": 3
   },
   "file_extension": ".py",
   "mimetype": "text/x-python",
   "name": "python",
   "nbconvert_exporter": "python",
   "pygments_lexer": "ipython3",
   "version": "3.10.8"
  }
 },
 "nbformat": 4,
 "nbformat_minor": 5
}
