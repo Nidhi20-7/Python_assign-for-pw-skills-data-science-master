{
 "cells": [
  {
   "cell_type": "markdown",
   "id": "0cee2f6c",
   "metadata": {},
   "source": [
    "Q1. You are writing code for a company. The requirement of the company is that you create a python\n",
    "function that will check whether the password entered by the user is correct or not. The function should\n",
    "take the password as input and return the string “Valid Password” if the entered password follows the\n",
    "below-given password guidelines else it should return “Invalid Password”.\n",
    "Note: 1. The Password should contain at least two uppercase letters and at least two lowercase letters.\n",
    "2. The Password should contain at least a number and three special characters.\n",
    "3. The length of the password should be 10 characters long."
   ]
  },
  {
   "cell_type": "code",
   "execution_count": 60,
   "id": "30914515",
   "metadata": {},
   "outputs": [
    {
     "name": "stdout",
     "output_type": "stream",
     "text": [
      "Enter the password:NID@123ngb\n",
      "Valid password\n",
      "None\n"
     ]
    }
   ],
   "source": [
    "def validatePw(pw):\n",
    "    #print(pw)\n",
    "    #print(len(pw))\n",
    "   \n",
    "    if len(pw)==10:\n",
    "        \n",
    "        upper_count=0\n",
    "        lower_count=0\n",
    "        for c in pw:\n",
    "            if c.isupper():\n",
    "                upper_count+=1\n",
    "            elif c.islower():\n",
    "                lower_count+=1\n",
    "        \n",
    "        #print(upper_count)\n",
    "        #print(lower_count)\n",
    "        if upper_count>=2 and lower_count>=2:\n",
    "            \n",
    "            num_count=0\n",
    "            for c in pw:\n",
    "                if c.isnumeric():\n",
    "                    num_count+=1\n",
    "                    \n",
    "            #print(\"number\",num_count)\n",
    "            special_chars = ['!', '@', '#', '$', '%', '^', '&', '*', '(', ')', '_', '+', '-', '=', '{', '}', '[', ']', '\\\\', '|', ':', ';', '\"', \"'\", '<', '>', ',', '.', '?', '/', '~', '`']\n",
    "            sum_sp=0\n",
    "            for c in pw:\n",
    "                if c in special_chars:\n",
    "                    sum_sp+=1\n",
    "            #print(\"special\",sum_sp)\n",
    "                    \n",
    "            if num_count>=1 or sum_sp==3:\n",
    "                print(\"Valid password\")\n",
    "            \n",
    "                \n",
    "    else:\n",
    "        print(\"Invalid password\")\n",
    "        \n",
    "    \n",
    "            \n",
    "                    \n",
    "            \n",
    "pw=input(\"Enter the password:\")   \n",
    "result=validatePw(pw)\n",
    "print(result)"
   ]
  },
  {
   "cell_type": "markdown",
   "id": "d22000ef",
   "metadata": {},
   "source": [
    "Q2. Solve the below-given questions using at least one of the following:\n",
    "1. Lambda function\n",
    "2. Filter function\n",
    "3. Zap function\n",
    "4. List Comprehension"
   ]
  },
  {
   "cell_type": "markdown",
   "id": "dccd0e37",
   "metadata": {},
   "source": [
    " Check if the string starts with a particular letter"
   ]
  },
  {
   "cell_type": "code",
   "execution_count": 9,
   "id": "28ed2203",
   "metadata": {},
   "outputs": [],
   "source": [
    "str_starts=lambda string,letter: True if string[0]==letter else False "
   ]
  },
  {
   "cell_type": "code",
   "execution_count": 62,
   "id": "1bf119f7",
   "metadata": {},
   "outputs": [
    {
     "data": {
      "text/plain": [
       "True"
      ]
     },
     "execution_count": 62,
     "metadata": {},
     "output_type": "execute_result"
    }
   ],
   "source": [
    "str_starts(\"hello \",\"k\") #False\n",
    "str_starts(\"Hello\",'H')"
   ]
  },
  {
   "cell_type": "markdown",
   "id": "7740f151",
   "metadata": {},
   "source": [
    " Check if the string is numeric"
   ]
  },
  {
   "cell_type": "code",
   "execution_count": 12,
   "id": "05573f95",
   "metadata": {},
   "outputs": [],
   "source": [
    "str_numeric=lambda string:True if string.isnumeric()==True else Fale"
   ]
  },
  {
   "cell_type": "code",
   "execution_count": 13,
   "id": "34e2dbbe",
   "metadata": {},
   "outputs": [
    {
     "data": {
      "text/plain": [
       "True"
      ]
     },
     "execution_count": 13,
     "metadata": {},
     "output_type": "execute_result"
    }
   ],
   "source": [
    "str_numeric(\"1234\")"
   ]
  },
  {
   "cell_type": "markdown",
   "id": "c5fe3e3f",
   "metadata": {},
   "source": [
    "Sort a list of tuples having fruit names and their quantity. [(\"mango\",99),(\"orange\",80), (\"grapes\", 1000)-"
   ]
  },
  {
   "cell_type": "code",
   "execution_count": 39,
   "id": "752a7f7c",
   "metadata": {},
   "outputs": [
    {
     "name": "stdout",
     "output_type": "stream",
     "text": [
      "[('orange', 80), ('mango', 99), ('grapes', 1000)]\n"
     ]
    }
   ],
   "source": [
    "fruits = [(\"mango\", 99), (\"orange\", 80), (\"grapes\", 1000)]\n",
    "sorted_fruits = sorted(fruits, key=lambda x: x[1])\n",
    "\n",
    "sorted_list = [(fruit, quantity) for fruit, quantity in sorted_fruits]\n",
    "\n",
    "print(sorted_list)\n",
    "\n"
   ]
  },
  {
   "cell_type": "markdown",
   "id": "3fdce7c8",
   "metadata": {},
   "source": [
    " Find the squares of numbers from 1 to 10\n",
    " \n",
    " Find the cube root of numbers from 1 to 10"
   ]
  },
  {
   "cell_type": "code",
   "execution_count": 49,
   "id": "6ce0f00a",
   "metadata": {},
   "outputs": [
    {
     "name": "stdout",
     "output_type": "stream",
     "text": [
      "[1, 4, 9, 16, 25, 36, 49, 64, 81, 100]\n",
      "[1.0, 1.2599210498948732, 1.4422495703074083, 1.5874010519681994, 1.7099759466766968, 1.8171205928321397, 1.912931182772389, 2.0, 2.080083823051904, 2.154434690031884]\n"
     ]
    }
   ],
   "source": [
    "list2=range(1,11)\n",
    "square=[x**2 for x in list2]\n",
    "print(square)\n",
    "cube_root=[x**(1/3) for x in list2]\n",
    "print(cube_root)"
   ]
  },
  {
   "cell_type": "markdown",
   "id": "5ab3e505",
   "metadata": {},
   "source": [
    "Check if a given number is even"
   ]
  },
  {
   "cell_type": "code",
   "execution_count": 51,
   "id": "481be02c",
   "metadata": {},
   "outputs": [],
   "source": [
    "check_even=lambda x: True if x%2==0 else False"
   ]
  },
  {
   "cell_type": "code",
   "execution_count": 52,
   "id": "e75a04d6",
   "metadata": {},
   "outputs": [
    {
     "data": {
      "text/plain": [
       "True"
      ]
     },
     "execution_count": 52,
     "metadata": {},
     "output_type": "execute_result"
    }
   ],
   "source": [
    "check_even(9635698)"
   ]
  },
  {
   "cell_type": "markdown",
   "id": "490d2ed0",
   "metadata": {},
   "source": [
    "Filter odd numbers from the given list.\n",
    "[1,2,3,4,5,6,7,8,9,10]"
   ]
  },
  {
   "cell_type": "code",
   "execution_count": 56,
   "id": "e74d934a",
   "metadata": {},
   "outputs": [
    {
     "name": "stdout",
     "output_type": "stream",
     "text": [
      "[1, 3, 5, 7, 9]\n"
     ]
    }
   ],
   "source": [
    "l1=[1,2,3,4,5,6,7,8,9,10]\n",
    "odd_num=list(filter(lambda x : x%2!=0,l1))\n",
    "print(odd_num)"
   ]
  },
  {
   "cell_type": "markdown",
   "id": "c5e3bd61",
   "metadata": {},
   "source": [
    "Sort a list of integers into positive and negative integers lists.\n",
    "[1,2,3,4,5,6,-1,-2,-3,-4,-5,0]"
   ]
  },
  {
   "cell_type": "code",
   "execution_count": 57,
   "id": "b7a98fbb",
   "metadata": {},
   "outputs": [
    {
     "name": "stdout",
     "output_type": "stream",
     "text": [
      "[1, 2, 3, 4, 5, 6]\n",
      "[-1, -2, -3, -4, -5]\n"
     ]
    }
   ],
   "source": [
    "l2=[1,2,3,4,5,6,-1,-2,-3,-4,-5,0]\n",
    "positive_num=list(filter(lambda x: x>0,l2))\n",
    "negative_num=list(filter(lambda x: x<0,l2))\n",
    "print(positive_num)\n",
    "print(negative_num)"
   ]
  }
 ],
 "metadata": {
  "kernelspec": {
   "display_name": "Python 3 (ipykernel)",
   "language": "python",
   "name": "python3"
  },
  "language_info": {
   "codemirror_mode": {
    "name": "ipython",
    "version": 3
   },
   "file_extension": ".py",
   "mimetype": "text/x-python",
   "name": "python",
   "nbconvert_exporter": "python",
   "pygments_lexer": "ipython3",
   "version": "3.10.5"
  }
 },
 "nbformat": 4,
 "nbformat_minor": 5
}
