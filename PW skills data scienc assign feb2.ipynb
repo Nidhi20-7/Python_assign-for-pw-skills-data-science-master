{
 "cells": [
  {
   "cell_type": "markdown",
   "id": "98f01744-bdaa-4e06-9006-ea33bc4e2239",
   "metadata": {},
   "source": [
    "Q1. What are the characteristics of the tuples? Is tuple immutable?\n",
    "\n",
    "Tuple items are ordered, unchangeable, and allow duplicate values. Tuple items are indexed, the first item has index [0] , the second item has index [1] etc.\n",
    "Tuple is immutable as items in tuple cannot be changed"
   ]
  },
  {
   "cell_type": "markdown",
   "id": "aa5f778f-1c90-462d-be24-1c7d0e8fef26",
   "metadata": {},
   "source": [
    "Q2. What are the two tuple methods in python? Give an example of each method. Give a reason why\n",
    "tuples have only two in-built methods as compared to Lists.\n",
    "\n",
    "count() and index() are two tuple methods in python.\n",
    "Tuple is immutable i.e we cannot change the element of tuple so we have only two methods whereas list is mutable ,hence we can perform various operation on list.\n"
   ]
  },
  {
   "cell_type": "code",
   "execution_count": 23,
   "id": "0db0c48f-b3c9-462e-a14b-d21d0750bbda",
   "metadata": {},
   "outputs": [
    {
     "name": "stdout",
     "output_type": "stream",
     "text": [
      "Count of 2 in tuple is 5\n",
      "index of 7 in tuple is 6\n"
     ]
    }
   ],
   "source": [
    "t1=(1,2,3,4,5,6,7,5,4,2,2,2,2)\n",
    "print(\"Count of 2 in tuple is\",t1.count(2))\n",
    "\n",
    "print(\"index of 7 in tuple is\",t1.index(7))\n"
   ]
  },
  {
   "cell_type": "markdown",
   "id": "bc1948af-2187-4043-a390-19a850665b46",
   "metadata": {},
   "source": [
    "Q3 Which collection datatypes in python do not allow duplicate items? Write a code using a set to remove\n",
    "duplicates from the given list.\n",
    "\n",
    "Ans: Set datatype in python do not allow duplicate items\n"
   ]
  },
  {
   "cell_type": "code",
   "execution_count": null,
   "id": "26112f1c-0245-46c0-9a6c-6c7cb9ab047d",
   "metadata": {},
   "outputs": [],
   "source": [
    "List = [1, 1, 1, 2, 1, 3, 1, 4, 2, 1, 2, 2, 2, 3, 2, 4, 3, 1, 3, 2, 3, 3, 3, 4, 4, 1, 4, 2, 4, 3, 4, 4]\n",
    "set1=set(List)\n",
    "set1"
   ]
  },
  {
   "cell_type": "markdown",
   "id": "120d0683-5f4f-4cc1-ad5f-155009870b92",
   "metadata": {},
   "source": [
    "Q4. Explain the difference between the union() and update() methods for a set. Give an example of\n",
    "each method.\n",
    "\n",
    "Answer:\n",
    " Both the methods are used to perform union operation on set.Only difference is that the update() method adds missing element to the set on which it is called whereas union() method creates a new set.\n",
    " \n"
   ]
  },
  {
   "cell_type": "code",
   "execution_count": 32,
   "id": "b835075c-821c-4930-b925-84d1ed3bf009",
   "metadata": {},
   "outputs": [
    {
     "name": "stdout",
     "output_type": "stream",
     "text": [
      "Union of set1 and 2: {1, 2, 3, 4, 5, 6, 7, 8}\n",
      "Set1 before update is performed {1, 2, 3, 4, 5}\n",
      "Set1 after update is performed {1, 2, 3, 4, 5, 6, 7, 8}\n"
     ]
    }
   ],
   "source": [
    "s1={1,2,3,4,5}\n",
    "s2={5,6,7,8}\n",
    "print(\"Union of set1 and 2:\",s1.union(s2))\n",
    "print(\"Set1 before update is performed\",s1)\n",
    "s1.update(s2)\n",
    "print(\"Set1 after update is performed\",s1)\n"
   ]
  },
  {
   "cell_type": "markdown",
   "id": "050ebacd-30f9-4105-b786-c0fe83b6d9ef",
   "metadata": {},
   "source": [
    "Q5. What is a dictionary? Give an example. Also, state whether a dictionary is ordered or unordered.\n",
    "\n",
    "Answer:\n",
    "Dictionaries are used to store data values in key:value pairs.\n",
    "\n",
    "A dictionary is a collection which is ordered, changeable and do not allow duplicates."
   ]
  },
  {
   "cell_type": "code",
   "execution_count": 2,
   "id": "b36e2eb6-6e37-4e0f-9aee-6f4ad1969923",
   "metadata": {},
   "outputs": [
    {
     "name": "stdout",
     "output_type": "stream",
     "text": [
      "{'name': 'nidhi', 'age': 21}\n"
     ]
    }
   ],
   "source": [
    "dict_1={\"name\":\"nidhi\",\"age\":21}\n",
    "print(dict_1)"
   ]
  },
  {
   "cell_type": "markdown",
   "id": "b53a3a6e-0cc5-4811-a4c3-b012f0b000d9",
   "metadata": {},
   "source": [
    "Q6. Can we create a nested dictionary? If so, please give an example by creating a simple one-level\n",
    "nested dictionary.\n",
    "\n",
    "Yes we can create a nested dictionary i.e a dictionary inside another dictionary.\n"
   ]
  },
  {
   "cell_type": "code",
   "execution_count": null,
   "id": "6ac1ef79-823f-4cfb-b178-da4d91271961",
   "metadata": {},
   "outputs": [],
   "source": [
    "nested={'language':\"Python\",'topics':{\"data science\":\"\"}}"
   ]
  },
  {
   "cell_type": "markdown",
   "id": "41bc3225-b579-440f-95ab-3228018eb24f",
   "metadata": {},
   "source": [
    "Q7. Using setdefault() method, create key named topics in the given dictionary and also add the value of\n",
    "the key as this list ['Python', 'Machine Learning’, 'Deep Learning']"
   ]
  },
  {
   "cell_type": "code",
   "execution_count": 8,
   "id": "53063245-d08d-4570-8c44-2fa0f37e5b3f",
   "metadata": {},
   "outputs": [
    {
     "data": {
      "text/plain": [
       "{'language': 'Python',\n",
       " 'course': 'Data Science Masters',\n",
       " 'topics': ['Python', 'Machine Learning', 'Deep Learning']}"
      ]
     },
     "execution_count": 8,
     "metadata": {},
     "output_type": "execute_result"
    }
   ],
   "source": [
    "dict1 = {'language' : 'Python', 'course': 'Data Science Masters'}\n",
    "dict1.setdefault(\"topics\",['Python','Machine Learning','Deep Learning'])\n",
    "dict1"
   ]
  },
  {
   "cell_type": "markdown",
   "id": "9f26567f-eca9-41fb-b879-23b71739ed11",
   "metadata": {},
   "source": [
    "Q8. What are the three view objects in dictionaries? Use the three in-built methods in python to display\n",
    "these three view objects for the given dictionary.\n",
    "dict1 = {'Sport': 'Cricket' , 'Teams': ['India', 'Australia', 'England', 'South Africa', 'Sri Lanka', 'New Zealand']}\n",
    "\n",
    ".keys()- displays all the keys in dictionary\n",
    ".values()-display all values \n",
    ".items()display keys and corresponding values"
   ]
  },
  {
   "cell_type": "code",
   "execution_count": 13,
   "id": "da2bbde5-6b53-4f16-a974-457d7ca8f7a2",
   "metadata": {},
   "outputs": [
    {
     "name": "stdout",
     "output_type": "stream",
     "text": [
      "dict_keys(['Sport', 'Teams'])\n",
      "dict_values(['Cricket', ['India', 'Australia', 'England', 'South Africa', 'Sri Lanka', 'New Zealand']])\n",
      "dict_items([('Sport', 'Cricket'), ('Teams', ['India', 'Australia', 'England', 'South Africa', 'Sri Lanka', 'New Zealand'])])\n"
     ]
    }
   ],
   "source": [
    "dict1 = {'Sport': 'Cricket' , 'Teams': ['India', 'Australia', 'England', 'South Africa', 'Sri Lanka', 'New Zealand']}\n",
    "print(dict1.keys())\n",
    "print(dict1.values())\n",
    "print(dict1.items())"
   ]
  },
  {
   "cell_type": "code",
   "execution_count": null,
   "id": "a177a168-4a6a-4dbd-8839-850074932c91",
   "metadata": {},
   "outputs": [],
   "source": []
  }
 ],
 "metadata": {
  "kernelspec": {
   "display_name": "Python 3 (ipykernel)",
   "language": "python",
   "name": "python3"
  },
  "language_info": {
   "codemirror_mode": {
    "name": "ipython",
    "version": 3
   },
   "file_extension": ".py",
   "mimetype": "text/x-python",
   "name": "python",
   "nbconvert_exporter": "python",
   "pygments_lexer": "ipython3",
   "version": "3.10.8"
  }
 },
 "nbformat": 4,
 "nbformat_minor": 5
}
