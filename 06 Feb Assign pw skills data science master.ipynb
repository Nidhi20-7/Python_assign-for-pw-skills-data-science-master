{
 "cells": [
  {
   "cell_type": "markdown",
   "id": "5b0de2ba",
   "metadata": {},
   "source": [
    "Q1. Create a function which will take a list as an argument and return the product of all the numbers\n",
    "after creating a flat list.\n",
    "Use the below-given list as an argument for your function.\n",
    "list1 = [1,2,3,4, [44,55,66, True], False, (34,56,78,89,34), {1,2,3,3,2,1}, {1:34, \"key2\": [55, 67, 78, 89], 4: (45,\n",
    "22, 61, 34)}, [56, 'data science'], 'Machine Learning']\n",
    "Note: you must extract numeric keys and values of the dictionary also."
   ]
  },
  {
   "cell_type": "code",
   "execution_count": 21,
   "id": "d752b71a",
   "metadata": {},
   "outputs": [],
   "source": [
    "from functools import reduce"
   ]
  },
  {
   "cell_type": "code",
   "execution_count": 83,
   "id": "f588e01b",
   "metadata": {},
   "outputs": [],
   "source": [
    "def prod_list(l):\n",
    "    l2=[]\n",
    "   \n",
    "    for i in l:\n",
    "        if type(i)==int:\n",
    "            l2.append(i)\n",
    "            \n",
    "        elif type(i)== list:\n",
    "            for j in i :\n",
    "                if type(j)==int:\n",
    "                    l2.append(j)\n",
    "                    \n",
    "        elif type(i)== tuple:\n",
    "            for j in i:\n",
    "                if type(j)==int:\n",
    "                    l2.append(j)\n",
    "                    \n",
    "        elif type(i)==set:\n",
    "            for j in i:\n",
    "                if type(j)==int:\n",
    "                    l2.append(j)\n",
    "                    \n",
    "        elif type(i)==dict:\n",
    "            for j in i.keys():\n",
    "                if type(j)==int:\n",
    "                    l2.append(j)\n",
    "                    \n",
    "            for j in i.values():\n",
    "                if type(j)==int:\n",
    "                    l2.append(j)\n",
    "                elif type(j)== list:\n",
    "                    for x in j :\n",
    "                        if type(x)==int:\n",
    "                            l2.append(x)\n",
    "                elif type(j)== tuple:\n",
    "                    for y in j:\n",
    "                        if type(y)==int:\n",
    "                            l2.append(y)\n",
    "            \n",
    "            \n",
    "   \n",
    "    print(l2)               \n",
    "    return print(\"The product of flat list:\",(reduce(lambda x,y:x*y,l2)))\n",
    "    \n",
    "                    \n",
    "                \n",
    "                "
   ]
  },
  {
   "cell_type": "code",
   "execution_count": 89,
   "id": "e3ca4f83",
   "metadata": {},
   "outputs": [],
   "source": [
    "list1=[1,2,3,4, [44,55,66, True], False, (34,56,78,89,34), {1,2,3,3,2,1}, {1:34, \"key2\": [55, 67, 78, 89], 4: (45,\n",
    "22, 61, 34)}, [56, 'data science'], 'Machine Learning']"
   ]
  },
  {
   "cell_type": "code",
   "execution_count": 90,
   "id": "b03c986e",
   "metadata": {},
   "outputs": [
    {
     "name": "stdout",
     "output_type": "stream",
     "text": [
      "[1, 2, 3, 4, 44, 55, 66, 34, 56, 78, 89, 34, 1, 2, 3, 1, 4, 34, 55, 67, 78, 89, 45, 22, 61, 34, 56]\n",
      "The product of flat list: 4134711838987085478833841242112000\n"
     ]
    }
   ],
   "source": [
    "prod_list(list1)"
   ]
  },
  {
   "cell_type": "markdown",
   "id": "e02a3973",
   "metadata": {},
   "source": [
    "Q2. Write a python program for encrypting a message sent to you by your friend. The logic of encryption\n",
    "should be such that, for a the output should be z. For b, the output should be y. For c, the output should\n",
    "be x respectively. Also, the whitespace should be replaced with a dollar sign. Keep the punctuation\n",
    "marks unchanged.\n",
    "Input Sentence: I want to become a Data Scientist.\n",
    "Encrypt the above input sentence using the program you just created.\n",
    "Note: Convert the given input sentence into lowercase before encrypting. The final output should be\n",
    "lowercase."
   ]
  },
  {
   "cell_type": "code",
   "execution_count": 45,
   "id": "28903383",
   "metadata": {},
   "outputs": [
    {
     "name": "stdout",
     "output_type": "stream",
     "text": [
      "Input text: I want to become a Data Scientist.\n",
      "Valid text i want to become a data scientist.\n",
      "rdzmgglyvxlnvzwzgzhxrvmgrhg.\n"
     ]
    }
   ],
   "source": [
    "alpha =['a','b','c','d','e','f','g','h','i','j','k','l','m','n','o','p','q','r','s','t','u','v','w','x','y','z']\n",
    "l=len(alpha)\n",
    "\n",
    "def encrypt(alpha,text):\n",
    "    enc=''\n",
    "    print(\"Input text:\",text)\n",
    "   \n",
    "    text=text.lower()\n",
    "    print(\"Valid text\",text)\n",
    "    #print(len(text))\n",
    "    i=0\n",
    "    while i<len(text):\n",
    "        for char in text:\n",
    "            if char in alpha:\n",
    "                char_index=alpha.index(char)\n",
    "                \n",
    "                char1=alpha[l-char_index-1]\n",
    "                \n",
    "                enc+=char1\n",
    "                \n",
    "           # else:\n",
    "           #     enc+=text.replace('','$') # replacing space with dollar sign\n",
    "            elif char=='.'or char==',':   #keeping punctuation mark as it is\n",
    "                enc+=char\n",
    "            i+=1\n",
    "    return enc\n",
    "            \n",
    "    \n",
    "            \n",
    "text=\"I want to become a Data Scientist.\"\n",
    "result=encrypt(alpha,text) \n",
    "print(result)\n",
    "            \n",
    "        \n",
    " \n",
    "\n",
    "\n",
    "    \n"
   ]
  }
 ],
 "metadata": {
  "kernelspec": {
   "display_name": "Python 3 (ipykernel)",
   "language": "python",
   "name": "python3"
  },
  "language_info": {
   "codemirror_mode": {
    "name": "ipython",
    "version": 3
   },
   "file_extension": ".py",
   "mimetype": "text/x-python",
   "name": "python",
   "nbconvert_exporter": "python",
   "pygments_lexer": "ipython3",
   "version": "3.10.5"
  }
 },
 "nbformat": 4,
 "nbformat_minor": 5
}
