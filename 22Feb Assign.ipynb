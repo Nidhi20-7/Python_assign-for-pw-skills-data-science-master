{
 "cells": [
  {
   "cell_type": "code",
   "execution_count": 1,
   "id": "3962c68b-1a05-4bae-b749-3b14c39bc284",
   "metadata": {},
   "outputs": [
    {
     "name": "stdout",
     "output_type": "stream",
     "text": [
      "0     4\n",
      "1     8\n",
      "2    15\n",
      "3    16\n",
      "4    23\n",
      "5    42\n",
      "dtype: int64\n"
     ]
    }
   ],
   "source": [
    "import pandas as pd\n",
    "\n",
    "data = [4, 8, 15, 16, 23, 42]\n",
    "series = pd.Series(data)\n",
    "print(series)"
   ]
  },
  {
   "cell_type": "code",
   "execution_count": 2,
   "id": "77a2c145-741f-4844-a9fe-510cef623ee3",
   "metadata": {},
   "outputs": [
    {
     "name": "stdout",
     "output_type": "stream",
     "text": [
      "0     1\n",
      "1     2\n",
      "2     3\n",
      "3     4\n",
      "4     5\n",
      "5     6\n",
      "6     7\n",
      "7     8\n",
      "8     9\n",
      "9    10\n",
      "dtype: int64\n"
     ]
    }
   ],
   "source": [
    "data_list = [1, 2, 3, 4, 5, 6, 7, 8, 9, 10]\n",
    "series_from_list = pd.Series(data_list)\n",
    "print(series_from_list)\n"
   ]
  },
  {
   "cell_type": "code",
   "execution_count": 3,
   "id": "a22bf9d6-6560-42ba-aebb-f01aa205301e",
   "metadata": {},
   "outputs": [
    {
     "data": {
      "text/html": [
       "<div>\n",
       "<style scoped>\n",
       "    .dataframe tbody tr th:only-of-type {\n",
       "        vertical-align: middle;\n",
       "    }\n",
       "\n",
       "    .dataframe tbody tr th {\n",
       "        vertical-align: top;\n",
       "    }\n",
       "\n",
       "    .dataframe thead th {\n",
       "        text-align: right;\n",
       "    }\n",
       "</style>\n",
       "<table border=\"1\" class=\"dataframe\">\n",
       "  <thead>\n",
       "    <tr style=\"text-align: right;\">\n",
       "      <th></th>\n",
       "      <th>Name</th>\n",
       "      <th>Age</th>\n",
       "      <th>Gender</th>\n",
       "    </tr>\n",
       "  </thead>\n",
       "  <tbody>\n",
       "    <tr>\n",
       "      <th>0</th>\n",
       "      <td>Alice</td>\n",
       "      <td>25</td>\n",
       "      <td>Female</td>\n",
       "    </tr>\n",
       "    <tr>\n",
       "      <th>1</th>\n",
       "      <td>Bob</td>\n",
       "      <td>30</td>\n",
       "      <td>Male</td>\n",
       "    </tr>\n",
       "    <tr>\n",
       "      <th>2</th>\n",
       "      <td>Claire</td>\n",
       "      <td>27</td>\n",
       "      <td>Female</td>\n",
       "    </tr>\n",
       "  </tbody>\n",
       "</table>\n",
       "</div>"
      ],
      "text/plain": [
       "     Name  Age  Gender\n",
       "0   Alice   25  Female\n",
       "1     Bob   30    Male\n",
       "2  Claire   27  Female"
      ]
     },
     "execution_count": 3,
     "metadata": {},
     "output_type": "execute_result"
    }
   ],
   "source": [
    "details={\n",
    "    \n",
    "    'Name':['Alice','Bob','Claire'],\n",
    "    'Age':[25,30,27],\n",
    "    'Gender':['Female','Male','Female']\n",
    "}\n",
    "data=pd.DataFrame(details)\n",
    "data"
   ]
  },
  {
   "cell_type": "markdown",
   "id": "02738360-92fb-439b-8fe4-29c428151a67",
   "metadata": {},
   "source": [
    " A DataFrame is a two-dimensional labeled data structure with columns that can hold data of different types. It can be thought of as a table or a spreadsheet. A Series, on the other hand, is a one-dimensional labeled array capable of holding data of any type."
   ]
  },
  {
   "cell_type": "code",
   "execution_count": 5,
   "id": "2df77379-4e13-4f45-b677-47642bb7e540",
   "metadata": {},
   "outputs": [],
   "source": [
    "import pandas as pd\n",
    "\n",
    "# Example of Series\n",
    "s = pd.Series([1, 2, 3, 4, 5])\n",
    "\n",
    "# Example of DataFrame\n",
    "data = {'A': [1, 2, 3], 'B': [4,5,6]}\n"
   ]
  },
  {
   "cell_type": "code",
   "execution_count": 6,
   "id": "d0a8c2f0-d9a4-4da5-bab2-a68dfe0a8ab7",
   "metadata": {},
   "outputs": [
    {
     "name": "stdout",
     "output_type": "stream",
     "text": [
      "First few rows:\n",
      "   A  B     C\n",
      "0  1  6  11.0\n",
      "1  2  7  12.0\n",
      "2  3  8   NaN\n",
      "\n",
      "Last few rows:\n",
      "   A   B     C\n",
      "3  4   9  14.0\n",
      "4  5  10  15.0\n",
      "\n",
      "Summary statistics:\n",
      "              A          B          C\n",
      "count  5.000000   5.000000   4.000000\n",
      "mean   3.000000   8.000000  13.000000\n",
      "std    1.581139   1.581139   1.825742\n",
      "min    1.000000   6.000000  11.000000\n",
      "25%    2.000000   7.000000  11.750000\n",
      "50%    3.000000   8.000000  13.000000\n",
      "75%    4.000000   9.000000  14.250000\n",
      "max    5.000000  10.000000  15.000000\n",
      "\n",
      "DataFrame information:\n",
      "<class 'pandas.core.frame.DataFrame'>\n",
      "RangeIndex: 5 entries, 0 to 4\n",
      "Data columns (total 3 columns):\n",
      " #   Column  Non-Null Count  Dtype  \n",
      "---  ------  --------------  -----  \n",
      " 0   A       5 non-null      int64  \n",
      " 1   B       5 non-null      int64  \n",
      " 2   C       4 non-null      float64\n",
      "dtypes: float64(1), int64(2)\n",
      "memory usage: 248.0 bytes\n",
      "None\n",
      "\n",
      "DataFrame after dropping column 'A':\n",
      "    B     C\n",
      "0   6  11.0\n",
      "1   7  12.0\n",
      "2   8   NaN\n",
      "3   9  14.0\n",
      "4  10  15.0\n",
      "\n",
      "DataFrame after filling missing values:\n",
      "    B     C\n",
      "0   6  11.0\n",
      "1   7  12.0\n",
      "2   8   0.0\n",
      "3   9  14.0\n",
      "4  10  15.0\n",
      "\n",
      "Grouped DataFrame:\n",
      "       C\n",
      "B       \n",
      "6   11.0\n",
      "7   12.0\n",
      "8    0.0\n",
      "9   14.0\n",
      "10  15.0\n",
      "\n",
      "Merged DataFrame:\n",
      "  key_column  value_x  value_y\n",
      "0          B        2        4\n",
      "1          C        3        5\n"
     ]
    }
   ],
   "source": [
    "\n",
    "\n",
    "# Creating a sample DataFrame\n",
    "data = {\n",
    "    'A': [1, 2, 3, 4, 5],\n",
    "    'B': [6, 7, 8, 9, 10],\n",
    "    'C': [11, 12, None, 14, 15]  # Adding a NaN value for demonstration\n",
    "}\n",
    "df = pd.DataFrame(data)\n",
    "\n",
    "# Displaying first few rows\n",
    "print(\"First few rows:\")\n",
    "print(df.head(3))\n",
    "\n",
    "# Displaying last few rows\n",
    "print(\"\\nLast few rows:\")\n",
    "print(df.tail(2))\n",
    "\n",
    "# Summary statistics\n",
    "print(\"\\nSummary statistics:\")\n",
    "print(df.describe())\n",
    "\n",
    "# Information about DataFrame\n",
    "print(\"\\nDataFrame information:\")\n",
    "print(df.info())\n",
    "\n",
    "# Dropping a column\n",
    "df.drop('A', axis=1, inplace=True)\n",
    "print(\"\\nDataFrame after dropping column 'A':\")\n",
    "print(df)\n",
    "\n",
    "# Filling missing values\n",
    "df.fillna(0, inplace=True)\n",
    "print(\"\\nDataFrame after filling missing values:\")\n",
    "print(df)\n",
    "\n",
    "# Grouping by a column and summing the groups\n",
    "grouped = df.groupby('B').sum()\n",
    "print(\"\\nGrouped DataFrame:\")\n",
    "print(grouped)\n",
    "\n",
    "# Merging two DataFrames\n",
    "df1 = pd.DataFrame({'key_column': ['A', 'B', 'C'], 'value': [1, 2, 3]})\n",
    "df2 = pd.DataFrame({'key_column': ['B', 'C', 'D'], 'value': [4, 5, 6]})\n",
    "merged_df = pd.merge(df1, df2, on='key_column')\n",
    "print(\"\\nMerged DataFrame:\")\n",
    "print(merged_df)\n"
   ]
  },
  {
   "cell_type": "markdown",
   "id": "d59334a0-c140-47a8-8ba2-97da5edb9d56",
   "metadata": {},
   "source": [
    "In Pandas, both Series and DataFrame are mutable, meaning you can modify their contents after creation. However, Panel, which was used for handling three-dimensional data, has been deprecated since version 0.25.0, and its functionality has been incorporated into the more versatile DataFrame. Therefore, for the current versions of Pandas, Panel is no longer relevant."
   ]
  },
  {
   "cell_type": "code",
   "execution_count": null,
   "id": "75fafd96-ada6-43a3-aa72-7abdcd7f6585",
   "metadata": {},
   "outputs": [],
   "source": []
  }
 ],
 "metadata": {
  "kernelspec": {
   "display_name": "Python 3 (ipykernel)",
   "language": "python",
   "name": "python3"
  },
  "language_info": {
   "codemirror_mode": {
    "name": "ipython",
    "version": 3
   },
   "file_extension": ".py",
   "mimetype": "text/x-python",
   "name": "python",
   "nbconvert_exporter": "python",
   "pygments_lexer": "ipython3",
   "version": "3.10.8"
  }
 },
 "nbformat": 4,
 "nbformat_minor": 5
}
