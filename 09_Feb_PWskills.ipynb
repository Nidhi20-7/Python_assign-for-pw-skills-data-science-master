{
 "cells": [
  {
   "cell_type": "markdown",
   "id": "a0624c4e",
   "metadata": {},
   "source": [
    "Q1, Create a vehicle class with an init method having instance variables as name_of_vehicle, max_speed and average_of_vehicle."
   ]
  },
  {
   "cell_type": "code",
   "execution_count": 1,
   "id": "edd1a18b",
   "metadata": {},
   "outputs": [],
   "source": [
    "class Vehicle:\n",
    "    def __init__(self, name_of_vehicle, max_speed, average_of_vehicle):\n",
    "        self.name_of_vehicle = name_of_vehicle\n",
    "        self.max_speed = max_speed\n",
    "        self.average_of_vehicle = average_of_vehicle\n",
    "\n",
    "car = Vehicle(\"Car\", 200, 30)\n"
   ]
  },
  {
   "cell_type": "markdown",
   "id": "209d0173",
   "metadata": {},
   "source": [
    "Q2. Create a child class car from the vehicle class created in Que 1, which will inherit the vehicle class.\n",
    "Create a method named seating_capacity which takes capacity as an argument and returns the name of\n",
    "the vehicle and its seating capacity."
   ]
  },
  {
   "cell_type": "code",
   "execution_count": 3,
   "id": "d3588eb9",
   "metadata": {},
   "outputs": [
    {
     "name": "stdout",
     "output_type": "stream",
     "text": [
      "The BMW has a seating capacity of 5.\n"
     ]
    }
   ],
   "source": [
    "class Car(Vehicle):\n",
    "    def seating_capacity(self, capacity):\n",
    "        return f\"The {self.name_of_vehicle} has a seating capacity of {capacity}.\"\n",
    "    \n",
    "my_car=Car(\"BMW\",200,300)\n",
    "print(my_car.seating_capacity(5))\n",
    "\n"
   ]
  },
  {
   "cell_type": "markdown",
   "id": "253d3db0",
   "metadata": {},
   "source": [
    "Q3. What is multiple inheritance? Write a python code to demonstrate multiple inheritance."
   ]
  },
  {
   "cell_type": "code",
   "execution_count": 4,
   "id": "66ebca4f",
   "metadata": {},
   "outputs": [
    {
     "name": "stdout",
     "output_type": "stream",
     "text": [
      "Tesla is being driven.\n",
      "The Lithium-ion battery is charging.\n",
      "Tesla is an electric car with Lithium-ion battery and a max speed of 200.\n"
     ]
    }
   ],
   "source": [
    "# Parent class 1\n",
    "class Vehicle:\n",
    "    def __init__(self, name_of_vehicle):\n",
    "        self.name_of_vehicle = name_of_vehicle\n",
    "\n",
    "    def drive(self):\n",
    "        return f\"{self.name_of_vehicle} is being driven.\"\n",
    "\n",
    "# Parent class 2\n",
    "class Electric:\n",
    "    def __init__(self, battery_type):\n",
    "        self.battery_type = battery_type\n",
    "\n",
    "    def charge(self):\n",
    "        return f\"The {self.battery_type} battery is charging.\"\n",
    "\n",
    "# Child class inheriting from both Vehicle and Electric\n",
    "class ElectricCar(Vehicle, Electric):\n",
    "    def __init__(self, name_of_vehicle, battery_type, max_speed):\n",
    "        # Initializing attributes from both parent classes\n",
    "        Vehicle.__init__(self, name_of_vehicle)\n",
    "        Electric.__init__(self, battery_type)\n",
    "        self.max_speed = max_speed\n",
    "\n",
    "    def display_info(self):\n",
    "        return f\"{self.name_of_vehicle} is an electric car with {self.battery_type} battery and a max speed of {self.max_speed}.\"\n",
    "\n",
    "# Creating an instance of ElectricCar\n",
    "my_electric_car = ElectricCar(\"Tesla\", \"Lithium-ion\", 200)\n",
    "\n",
    "# Accessing methods from both parent classes\n",
    "print(my_electric_car.drive())   # Output: Tesla is being driven.\n",
    "print(my_electric_car.charge())  # Output: The Lithium-ion battery is charging.\n",
    "print(my_electric_car.display_info())  # Output: Tesla is an electric car with Lithium-ion battery and a max speed of 200.\n"
   ]
  },
  {
   "cell_type": "markdown",
   "id": "45024adc",
   "metadata": {},
   "source": [
    "What are getter and setter in python? Create a class and create a getter and a setter method in this\n",
    "class."
   ]
  },
  {
   "cell_type": "code",
   "execution_count": 5,
   "id": "49daef9a",
   "metadata": {},
   "outputs": [
    {
     "name": "stdout",
     "output_type": "stream",
     "text": [
      "Initial name: Alice\n",
      "Initial age: 30\n",
      "Modified name: Bob\n",
      "Modified age: 25\n",
      "Age should be a positive value.\n",
      "Age after invalid update: 25\n"
     ]
    }
   ],
   "source": [
    "class Person:\n",
    "    def __init__(self, name, age):\n",
    "        self._name = name  # Private attribute conventionally denoted with a single underscore\n",
    "        self._age = age    # Private attribute for demonstration purposes\n",
    "\n",
    "    # Getter method to retrieve the value of the name attribute\n",
    "    def get_name(self):\n",
    "        return self._name\n",
    "\n",
    "    # Setter method to modify the value of the name attribute\n",
    "    def set_name(self, new_name):\n",
    "        self._name = new_name\n",
    "\n",
    "    # Getter method to retrieve the value of the age attribute\n",
    "    def get_age(self):\n",
    "        return self._age\n",
    "\n",
    "    # Setter method to modify the value of the age attribute\n",
    "    def set_age(self, new_age):\n",
    "        if new_age > 0:  # Adding a validation check for age\n",
    "            self._age = new_age\n",
    "        else:\n",
    "            print(\"Age should be a positive value.\")\n",
    "\n",
    "# Creating an instance of the Person class\n",
    "person = Person(\"Alice\", 30)\n",
    "\n",
    "# Using getter to retrieve the name and age attributes\n",
    "print(\"Initial name:\", person.get_name())  # Output: Initial name: Alice\n",
    "print(\"Initial age:\", person.get_age())    # Output: Initial age: 30\n",
    "\n",
    "# Using setter to modify the name and age attributes\n",
    "person.set_name(\"Bob\")\n",
    "person.set_age(25)\n",
    "\n",
    "# Using getter again to retrieve the modified attributes\n",
    "print(\"Modified name:\", person.get_name())  # Output: Modified name: Bob\n",
    "print(\"Modified age:\", person.get_age())    # Output: Modified age: 25\n",
    "\n",
    "# Trying to set an invalid age\n",
    "person.set_age(-5)  # Output: Age should be a positive value.\n",
    "\n",
    "# Using getter again to verify age remains unchanged\n",
    "print(\"Age after invalid update:\", person.get_age())  # Output: Age after invalid update: 25\n"
   ]
  },
  {
   "cell_type": "markdown",
   "id": "3c18e390",
   "metadata": {},
   "source": [
    "Q5.What is method overriding in python? Write a python code to demonstrate method overriding."
   ]
  },
  {
   "cell_type": "code",
   "execution_count": 6,
   "id": "dfc6e417",
   "metadata": {},
   "outputs": [
    {
     "name": "stdout",
     "output_type": "stream",
     "text": [
      "Dog sounds like: Woof! Woof!\n",
      "Cat sounds like: Meow! Meow!\n"
     ]
    }
   ],
   "source": [
    "# Parent class\n",
    "class Animal:\n",
    "    def make_sound(self):\n",
    "        return \"Some generic sound\"\n",
    "\n",
    "# Child class inheriting from Animal\n",
    "class Dog(Animal):\n",
    "    def make_sound(self):\n",
    "        return \"Woof! Woof!\"\n",
    "\n",
    "# Child class inheriting from Animal\n",
    "class Cat(Animal):\n",
    "    def make_sound(self):\n",
    "        return \"Meow! Meow!\"\n",
    "\n",
    "# Creating instances of Dog and Cat classes\n",
    "dog = Dog()\n",
    "cat = Cat()\n",
    "\n",
    "# Calling the overridden method make_sound for both instances\n",
    "print(\"Dog sounds like:\", dog.make_sound())  # Output: Dog sounds like: Woof! Woof!\n",
    "print(\"Cat sounds like:\", cat.make_sound())  # Output: Cat sounds like: Meow! Meow!\n"
   ]
  },
  {
   "cell_type": "code",
   "execution_count": null,
   "id": "685e2ad6",
   "metadata": {},
   "outputs": [],
   "source": []
  }
 ],
 "metadata": {
  "kernelspec": {
   "display_name": "Python 3 (ipykernel)",
   "language": "python",
   "name": "python3"
  },
  "language_info": {
   "codemirror_mode": {
    "name": "ipython",
    "version": 3
   },
   "file_extension": ".py",
   "mimetype": "text/x-python",
   "name": "python",
   "nbconvert_exporter": "python",
   "pygments_lexer": "ipython3",
   "version": "3.10.5"
  }
 },
 "nbformat": 4,
 "nbformat_minor": 5
}
